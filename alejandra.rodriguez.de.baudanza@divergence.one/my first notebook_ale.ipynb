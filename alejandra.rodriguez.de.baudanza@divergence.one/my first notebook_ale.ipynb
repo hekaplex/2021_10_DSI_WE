{
 "cells": [
  {
   "cell_type": "code",
   "execution_count": null,
   "metadata": {},
   "outputs": [],
   "source": []
  }
 ],
 "metadata": {
  "interpreter": {
   "hash": "1cda19ea30faeaf6871123f0478ec0c96d99966a8ffeb03fb59f32e8f0fabd1c"
  },
  "kernelspec": {
   "display_name": "Python 3.9.7 64-bit ('base': conda)",
   "language": "python",
   "name": "python3"
  },
  "language_info": {
   "name": "python",
   "version": "3.9.7"
  },
  "orig_nbformat": 4
 },
 "nbformat": 4,
 "nbformat_minor": 2
}
