{
    "metadata": {
        "kernelspec": {
            "name": "python3",
            "display_name": "Python 3 (ipykernel)",
            "language": "python"
        },
        "language_info": {
            "name": "python",
            "version": "3.8.10",
            "mimetype": "text/x-python",
            "codemirror_mode": {
                "name": "ipython",
                "version": 3
            },
            "pygments_lexer": "ipython3",
            "nbconvert_exporter": "python",
            "file_extension": ".py"
        },
        "interpreter": {
            "hash": "aee8b7b246df8f9039afb4144a1f6fd8d2ca17a180786b69acc140d282b71a49"
        },
        "orig_nbformat": 4
    },
    "nbformat_minor": 2,
    "nbformat": 4,
    "cells": [
        {
            "cell_type": "code",
            "source": [
                "print('Hello World')\n",
                "print(5 + 5)"
            ],
            "metadata": {
                "azdata_cell_guid": "bf5e3504-a423-4795-9659-b437883aa19d"
            },
            "outputs": [
                {
                    "output_type": "stream",
                    "name": "stdout",
                    "text": "Hello World\n10\n"
                }
            ],
            "execution_count": 1
        },
        {
            "cell_type": "code",
            "source": [
                "print('My name is Alejandra.')"
            ],
            "metadata": {
                "azdata_cell_guid": "358e9b1d-f1ab-4b7d-ac25-176adebd6b23"
            },
            "outputs": [
                {
                    "output_type": "stream",
                    "name": "stdout",
                    "text": "My name is Alejandra.\n"
                }
            ],
            "execution_count": 1
        },
        {
            "cell_type": "code",
            "source": [],
            "metadata": {
                "azdata_cell_guid": "05f8f7fc-f145-4ed2-907b-431ec8ba0169"
            },
            "outputs": [],
            "execution_count": null
        }
    ]
}