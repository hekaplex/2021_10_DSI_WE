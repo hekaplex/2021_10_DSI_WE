{
 "cells": [
  {
   "cell_type": "code",
   "execution_count": null,
   "metadata": {},
   "outputs": [],
   "source": []
  },
  {
   "cell_type": "code",
   "execution_count": 9,
   "metadata": {},
   "outputs": [],
   "source": [
    "#declaring and assigning a value to a variable\n",
    "# tr = is a variable\n",
    "# \"=\" is an assignment operator\n",
    "# 0 is value\n",
    "tr = 0"
   ]
  },
  {
   "cell_type": "markdown",
   "metadata": {},
   "source": [
    "# Declaring and assigning a value to a variable\n",
    "* tr = is a variable\n",
    "* \"=\" is an assignment operator\n",
    "* 0 is value"
   ]
  },
  {
   "cell_type": "markdown",
   "metadata": {},
   "source": [
    "# Numeric notations\n",
    "* binary\n",
    "* decimal\n",
    "* hexadecimal"
   ]
  },
  {
   "cell_type": "code",
   "execution_count": 2,
   "metadata": {},
   "outputs": [
    {
     "data": {
      "text/plain": [
       "True"
      ]
     },
     "execution_count": 2,
     "metadata": {},
     "output_type": "execute_result"
    }
   ],
   "source": [
    "#binary (bits)\n",
    "#hexadecimal (bytes)\n",
    "# 8 bits = 1 byte\n",
    "# 0b 0001 0000\n",
    "# 16 bit -> 64 bit\n",
    "# comparsion evaluation\n",
    "hexf = 0xF\n",
    "binf = 0b00001111\n",
    "binf == hexf"
   ]
  },
  {
   "cell_type": "code",
   "execution_count": 3,
   "metadata": {},
   "outputs": [
    {
     "data": {
      "text/plain": [
       "4273108484"
      ]
     },
     "execution_count": 3,
     "metadata": {},
     "output_type": "execute_result"
    }
   ],
   "source": [
    "0xFEB27604"
   ]
  },
  {
   "cell_type": "code",
   "execution_count": 30,
   "metadata": {},
   "outputs": [
    {
     "data": {
      "text/plain": [
       "int"
      ]
     },
     "execution_count": 30,
     "metadata": {},
     "output_type": "execute_result"
    }
   ],
   "source": [
    "type(hexf)"
   ]
  },
  {
   "cell_type": "code",
   "execution_count": 1,
   "metadata": {},
   "outputs": [
    {
     "ename": "ModuleNotFoundError",
     "evalue": "No module named 'pandas'",
     "output_type": "error",
     "traceback": [
      "\u001b[1;31m---------------------------------------------------------------------------\u001b[0m",
      "\u001b[1;31mModuleNotFoundError\u001b[0m                       Traceback (most recent call last)",
      "\u001b[1;32m~\\AppData\\Local\\Temp/ipykernel_13688/885719924.py\u001b[0m in \u001b[0;36m<module>\u001b[1;34m\u001b[0m\n\u001b[1;32m----> 1\u001b[1;33m \u001b[1;32mimport\u001b[0m \u001b[0mpandas\u001b[0m \u001b[1;32mas\u001b[0m \u001b[0mpd\u001b[0m\u001b[1;33m\u001b[0m\u001b[1;33m\u001b[0m\u001b[0m\n\u001b[0m\u001b[0;32m      2\u001b[0m \u001b[0mpandas\u001b[0m\u001b[1;33m.\u001b[0m\u001b[0mread_csv\u001b[0m\u001b[1;33m(\u001b[0m\u001b[1;34m'c:\\\\titanic.csv'\u001b[0m\u001b[1;33m)\u001b[0m\u001b[1;33m\u001b[0m\u001b[1;33m\u001b[0m\u001b[0m\n",
      "\u001b[1;31mModuleNotFoundError\u001b[0m: No module named 'pandas'"
     ]
    }
   ],
   "source": [
    "import pandas as pd\n",
    "pandas.read_csv('c:\\\\titanic.csv')"
   ]
  },
  {
   "cell_type": "code",
   "execution_count": 31,
   "metadata": {},
   "outputs": [
    {
     "data": {
      "text/plain": [
       "bool"
      ]
     },
     "execution_count": 31,
     "metadata": {},
     "output_type": "execute_result"
    }
   ],
   "source": [
    "evalrslt = binf == hexf\n",
    "type(evalrslt)"
   ]
  },
  {
   "cell_type": "markdown",
   "metadata": {},
   "source": []
  },
  {
   "cell_type": "code",
   "execution_count": 37,
   "metadata": {},
   "outputs": [
    {
     "name": "stdout",
     "output_type": "stream",
     "text": [
      " Volume in drive C has no label.\n",
      " Volume Serial Number is 0CF2-974E\n",
      "\n",
      " Directory of c:\\2021_10_DSI_WE\n",
      "\n",
      "10/09/2021  11:17 AM    <DIR>          .\n",
      "10/09/2021  11:17 AM    <DIR>          ..\n",
      "10/09/2021  02:46 PM    <DIR>          drew.minkin@divergence.one\n",
      "               0 File(s)              0 bytes\n",
      "               3 Dir(s)  123,230,748,672 bytes free\n"
     ]
    }
   ],
   "source": [
    "boing = \"c:\\\\2021_10_DSI_WE\"\n",
    "!dir $boing"
   ]
  },
  {
   "cell_type": "code",
   "execution_count": 40,
   "metadata": {},
   "outputs": [
    {
     "name": "stdout",
     "output_type": "stream",
     "text": [
      "Collecting pandas\n",
      "  Downloading pandas-1.3.3-cp39-cp39-win_amd64.whl (10.2 MB)\n",
      "Collecting numpy>=1.17.3\n",
      "  Downloading numpy-1.21.2-cp39-cp39-win_amd64.whl (14.0 MB)\n",
      "Collecting python-dateutil>=2.7.3\n",
      "  Using cached python_dateutil-2.8.2-py2.py3-none-any.whl (247 kB)\n",
      "Collecting pytz>=2017.3\n",
      "  Downloading pytz-2021.3-py2.py3-none-any.whl (503 kB)\n",
      "Collecting six>=1.5\n",
      "  Using cached six-1.16.0-py2.py3-none-any.whl (11 kB)\n",
      "Installing collected packages: numpy, six, python-dateutil, pytz, pandas\n",
      "  Attempting uninstall: numpy\n",
      "    Found existing installation: numpy 1.20.3\n",
      "    Uninstalling numpy-1.20.3:\n",
      "      Successfully uninstalled numpy-1.20.3\n",
      "  Rolling back uninstall of numpy\n",
      "  Moving to c:\\python39\\lib\\site-packages\\numpy-1.20.3.dist-info\\\n",
      "   from C:\\Python39\\Lib\\site-packages\\~umpy-1.20.3.dist-info\n",
      "  Moving to c:\\python39\\lib\\site-packages\\numpy\\\n",
      "   from C:\\Python39\\Lib\\site-packages\\~umpy\n"
     ]
    },
    {
     "name": "stderr",
     "output_type": "stream",
     "text": [
      "  WARNING: Failed to write executable - trying to use .deleteme logic\n",
      "ERROR: Could not install packages due to an EnvironmentError: [WinError 2] The system cannot find the file specified: 'c:\\\\python39\\\\Scripts\\\\f2py.exe' -> 'c:\\\\python39\\\\Scripts\\\\f2py.exe.deleteme'\n",
      "\n",
      "WARNING: You are using pip version 20.2.3; however, version 21.2.4 is available.\n",
      "You should consider upgrading via the 'c:\\python39\\python.exe -m pip install --upgrade pip' command.\n"
     ]
    }
   ],
   "source": [
    "!pip install pandas --upgrade --force"
   ]
  },
  {
   "cell_type": "code",
   "execution_count": 5,
   "metadata": {},
   "outputs": [
    {
     "name": "stdout",
     "output_type": "stream",
     "text": [
      "A\n",
      "B\n",
      "D\n",
      "C\n",
      "E\n",
      "F\n"
     ]
    }
   ],
   "source": [
    "list_num = \"ADBCEF\"\n",
    "#for loop\n",
    "for i in list_num:\n",
    "    print(i)\n"
   ]
  },
  {
   "cell_type": "code",
   "execution_count": 6,
   "metadata": {},
   "outputs": [
    {
     "data": {
      "text/plain": [
       "'A'"
      ]
     },
     "execution_count": 6,
     "metadata": {},
     "output_type": "execute_result"
    }
   ],
   "source": [
    "#index 0 in python is First item\n",
    "list_num[0]"
   ]
  },
  {
   "cell_type": "code",
   "execution_count": 8,
   "metadata": {},
   "outputs": [
    {
     "data": {
      "text/plain": [
       "'F'"
      ]
     },
     "execution_count": 8,
     "metadata": {},
     "output_type": "execute_result"
    }
   ],
   "source": [
    "list_num[len(list_num)-1]"
   ]
  },
  {
   "cell_type": "code",
   "execution_count": 11,
   "metadata": {},
   "outputs": [
    {
     "name": "stdout",
     "output_type": "stream",
     "text": [
      "A\n",
      "B\n",
      "D\n",
      "C\n",
      "E\n",
      "F\n"
     ]
    }
   ],
   "source": [
    "#while loop\n",
    "ctr = 1\n",
    "while ctr <= len(list_num):\n",
    "    print(list_num[ctr-1])\n",
    "    #ctr = ctr + 1\n",
    "    ctr += 1"
   ]
  },
  {
   "cell_type": "code",
   "execution_count": 28,
   "metadata": {},
   "outputs": [],
   "source": [
    "#def - Python make me a function\n",
    "#fun_function = name of function\n",
    "#str_in = parameter ( local variable)\n",
    "def fun_function(str_in):\n",
    "#indent = parenthesis for all susequent code\n",
    "    for i in str_in:\n",
    "        #all code at this indent is in for loop\n",
    "        print(i)"
   ]
  },
  {
   "cell_type": "code",
   "execution_count": 22,
   "metadata": {},
   "outputs": [
    {
     "name": "stdout",
     "output_type": "stream",
     "text": [
      "4\n",
      "5\n",
      "6\n",
      "7\n",
      "8\n"
     ]
    }
   ],
   "source": [
    "#implicit type conversion\n",
    "fun_function(lmagic)\n"
   ]
  },
  {
   "cell_type": "code",
   "execution_count": 23,
   "metadata": {},
   "outputs": [
    {
     "name": "stdout",
     "output_type": "stream",
     "text": [
      "<class 'str'>\n",
      "5\n"
     ]
    }
   ],
   "source": [
    "lmagic = [4,5,6,7,8]\n",
    "print(type(list_num[0]))\n",
    "#lmagic is a list of 5 items whose datatypes are all int\n",
    "print(len(lmagic))"
   ]
  },
  {
   "cell_type": "code",
   "execution_count": 24,
   "metadata": {},
   "outputs": [],
   "source": [
    "lweird = [\"A\",0.9, 5, 0x4567]"
   ]
  },
  {
   "cell_type": "code",
   "execution_count": 25,
   "metadata": {},
   "outputs": [
    {
     "name": "stdout",
     "output_type": "stream",
     "text": [
      "A\n",
      "0.9\n",
      "5\n",
      "17767\n"
     ]
    }
   ],
   "source": [
    "fun_function(lweird)"
   ]
  },
  {
   "cell_type": "code",
   "execution_count": 35,
   "metadata": {},
   "outputs": [],
   "source": [
    "def wfun_function(str_in):\n",
    "    ctr = 1\n",
    "    while ctr <= len(str_in):\n",
    "        if ctr == 1:\n",
    "            print(\"begin:\" + str(str_in[ctr-1]))\n",
    "        else:\n",
    "            print(str(str_in[ctr-1]) + \"->\" + str(str_in[ctr-2]))\n",
    "        #ctr = ctr + 1\n",
    "        ctr += 1"
   ]
  },
  {
   "cell_type": "code",
   "execution_count": 33,
   "metadata": {},
   "outputs": [
    {
     "name": "stdout",
     "output_type": "stream",
     "text": [
      "begin:A\n",
      "B->A\n",
      "D->B\n",
      "C->D\n",
      "E->C\n",
      "F->E\n"
     ]
    }
   ],
   "source": [
    "wfun_function(list_num)"
   ]
  },
  {
   "cell_type": "code",
   "execution_count": 36,
   "metadata": {},
   "outputs": [
    {
     "name": "stdout",
     "output_type": "stream",
     "text": [
      "begin:4\n",
      "5->4\n",
      "6->5\n",
      "7->6\n",
      "8->7\n"
     ]
    }
   ],
   "source": [
    "wfun_function(lmagic)"
   ]
  },
  {
   "cell_type": "code",
   "execution_count": 37,
   "metadata": {},
   "outputs": [
    {
     "name": "stdout",
     "output_type": "stream",
     "text": [
      "begin:A\n",
      "0.9->A\n",
      "5->0.9\n",
      "17767->5\n"
     ]
    }
   ],
   "source": [
    "wfun_function(lweird)"
   ]
  },
  {
   "cell_type": "code",
   "execution_count": null,
   "metadata": {},
   "outputs": [],
   "source": []
  }
 ],
 "metadata": {
  "interpreter": {
   "hash": "35c4bcfff6bb594ff47b51ce5b21bcb1093d06fa0c5debe7002e3be5d50f4cc1"
  },
  "kernelspec": {
   "display_name": "Python 3.10.0 64-bit",
   "name": "python3"
  },
  "language_info": {
   "codemirror_mode": {
    "name": "ipython",
    "version": 3
   },
   "file_extension": ".py",
   "mimetype": "text/x-python",
   "name": "python",
   "nbconvert_exporter": "python",
   "pygments_lexer": "ipython3",
   "version": "3.10.0"
  },
  "orig_nbformat": 4
 },
 "nbformat": 4,
 "nbformat_minor": 2
}
