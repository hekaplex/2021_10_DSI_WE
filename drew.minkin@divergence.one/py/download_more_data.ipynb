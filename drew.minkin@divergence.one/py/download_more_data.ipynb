{
 "cells": [
  {
   "cell_type": "markdown",
   "metadata": {},
   "source": [
    "# Download more data files"
   ]
  },
  {
   "cell_type": "raw",
   "metadata": {},
   "source": [
    "This Notebook downloads some large data files from government websites. Some of the cells take several minutes or more to run. So, be patient. If all cells in this Notebook run successfully, you have all the data files you need for working with Murach's Python for Data Analysis."
   ]
  },
  {
   "cell_type": "markdown",
   "metadata": {},
   "source": [
    "## Import the necessary libraries"
   ]
  },
  {
   "cell_type": "code",
   "execution_count": null,
   "metadata": {},
   "outputs": [],
   "source": [
    "import pandas as pd\n",
    "from urllib import request\n",
    "from zipfile import ZipFile\n",
    "import sqlite3"
   ]
  },
  {
   "cell_type": "markdown",
   "metadata": {},
   "source": [
    "## Download and unzip the Jobs data"
   ]
  },
  {
   "cell_type": "code",
   "execution_count": null,
   "metadata": {},
   "outputs": [],
   "source": [
    "zip_url = 'https://www.bls.gov/oes/special.requests/oesm18all.zip'\n",
    "request.urlretrieve(zip_url, filename='oesm18all.zip')"
   ]
  },
  {
   "cell_type": "code",
   "execution_count": 3,
   "metadata": {},
   "outputs": [
    {
     "name": "stdout",
     "output_type": "stream",
     "text": [
      "oesm18all/all_data_M_2018.xlsx 70296790 71834374\n"
     ]
    }
   ],
   "source": [
    "file_names = list() \n",
    "with ZipFile('oesm18all.zip', mode='r') as zip:\n",
    "    zip.extractall()\n",
    "    for file in zip.infolist():\n",
    "        file_names.append(file.filename)\n",
    "        print(file.filename, file.compress_size, file.file_size)"
   ]
  },
  {
   "cell_type": "markdown",
   "metadata": {},
   "source": [
    "## Download and unzip the Social Survey data"
   ]
  },
  {
   "cell_type": "code",
   "execution_count": 4,
   "metadata": {},
   "outputs": [
    {
     "data": {
      "text/plain": [
       "('gss_stata_with_codebook.zip', <http.client.HTTPMessage at 0x1c5956f5130>)"
      ]
     },
     "execution_count": 4,
     "metadata": {},
     "output_type": "execute_result"
    }
   ],
   "source": [
    "zip_url = 'http://gss.norc.org/Documents/stata/gss_stata_with_codebook.zip'\n",
    "request.urlretrieve(zip_url,filename='gss_stata_with_codebook.zip')"
   ]
  },
  {
   "cell_type": "code",
   "execution_count": 5,
   "metadata": {},
   "outputs": [
    {
     "name": "stdout",
     "output_type": "stream",
     "text": [
      "Release Notes 7218.pdf 288197 296746\n",
      "GSS_Codebook.pdf 30715963 37952897\n",
      "GSS7218_R3.DTA 39847271 449140819\n"
     ]
    }
   ],
   "source": [
    "with ZipFile('gss_stata_with_codebook.zip', mode='r') as zip:\n",
    "    zip.extractall() \n",
    "    for file in zip.infolist():    \n",
    "        print(file.filename, file.compress_size, file.file_size)"
   ]
  },
  {
   "cell_type": "markdown",
   "metadata": {},
   "source": [
    "## Download and unzip the Fires data"
   ]
  },
  {
   "cell_type": "code",
   "execution_count": null,
   "metadata": {},
   "outputs": [],
   "source": [
    "fires_url = 'https://www.fs.usda.gov/rds/archive/products/RDS-2013-0009.4/RDS-2013-0009.4_SQLITE.zip'\n",
    "request.urlretrieve(fires_url, filename='RDS-2013-0009.4_SQLITE.zip')"
   ]
  },
  {
   "cell_type": "code",
   "execution_count": 11,
   "metadata": {},
   "outputs": [
    {
     "name": "stdout",
     "output_type": "stream",
     "text": [
      " Volume in drive C has no label.\n",
      " Volume Serial Number is 0CF2-974E\n",
      "\n",
      " Directory of c:\\2021_10_DSI_WE\\drew.minkin@divergence.one\\py\n",
      "\n",
      "01/23/2022  11:08 AM    <DIR>          .\n",
      "01/16/2022  01:05 PM    <DIR>          ..\n",
      "01/22/2022  08:36 AM    <DIR>          .vscode\n",
      "01/22/2022  10:08 AM               776 average_score.py\n",
      "01/22/2022  10:08 AM               374 countdown_app.py\n",
      "01/23/2022  08:05 AM    <DIR>          Day 1\n",
      "01/23/2022  09:00 AM    <DIR>          Day 2\n",
      "01/23/2022  08:05 AM    <DIR>          Day 3\n",
      "01/23/2022  08:05 AM    <DIR>          Day 4\n",
      "01/16/2022  01:05 PM            11,934 day2.ipynb\n",
      "01/23/2022  11:04 AM             5,120 download_more_data.ipynb\n",
      "01/22/2022  01:29 PM    <DIR>          examples\n",
      "01/22/2022  10:09 AM             1,893 foo.ipynb\n",
      "01/22/2022  11:50 AM             1,199 future_value.py\n",
      "01/23/2022  11:08 AM       449,140,819 GSS7218_R3.DTA\n",
      "01/23/2022  11:08 AM        37,952,897 GSS_Codebook.pdf\n",
      "01/23/2022  11:08 AM        70,851,785 gss_stata_with_codebook.zip\n",
      "01/22/2022  10:08 AM             7,264 IDLE_Shell_Output_Day1.py\n",
      "01/22/2022  10:08 AM               426 mileage_calc.py\n",
      "01/22/2022  02:01 PM            40,482 my first Notebook.ipynb\n",
      "01/23/2022  11:07 AM    <DIR>          oesm18all\n",
      "01/23/2022  11:05 AM        70,296,948 oesm18all.zip\n",
      "01/23/2022  11:08 AM           296,746 Release Notes 7218.pdf\n",
      "01/22/2022  10:08 AM               125 sample_project_TODO.py\n",
      "01/16/2022  01:05 PM    <DIR>          scrape_by_mikezambeck\n",
      "01/16/2022  01:05 PM             8,209 SQL_EDA.ipynb\n",
      "01/16/2022  01:05 PM            13,676 titanic.ipynb\n",
      "              17 File(s)    628,630,673 bytes\n",
      "              10 Dir(s)  120,964,472,832 bytes free\n"
     ]
    }
   ],
   "source": [
    "!dir"
   ]
  },
  {
   "cell_type": "code",
   "execution_count": 12,
   "metadata": {},
   "outputs": [
    {
     "name": "stdout",
     "output_type": "stream",
     "text": [
      "Data/FPA_FOD_20170508.sqlite 173776108 795785216\n",
      "Data/ 0 0\n",
      "_metadata_RDS-2013-0009.4.xml 11571 51400\n",
      "Supplements/FPA_FOD_Source_List.pdf 74137 109336\n",
      "Supplements/ 0 0\n",
      "_fileindex_RDS-2013-0009.4.html 1098 4398\n",
      "_metadata_RDS-2013-0009.4.html 13296 89005\n"
     ]
    }
   ],
   "source": [
    "with ZipFile('examples/ch05/RDS-2013-0009.4_SQLITE.zip', mode='r') as zip:\n",
    "    zip.extractall()\n",
    "    for file in zip.infolist():\n",
    "       print(file.filename, file.compress_size, file.file_size)"
   ]
  },
  {
   "cell_type": "code",
   "execution_count": null,
   "metadata": {},
   "outputs": [],
   "source": []
  }
 ],
 "metadata": {
  "kernelspec": {
   "display_name": "Python 3",
   "language": "python",
   "name": "python3"
  },
  "language_info": {
   "codemirror_mode": {
    "name": "ipython",
    "version": 3
   },
   "file_extension": ".py",
   "mimetype": "text/x-python",
   "name": "python",
   "nbconvert_exporter": "python",
   "pygments_lexer": "ipython3",
   "version": "3.8.12"
  }
 },
 "nbformat": 4,
 "nbformat_minor": 4
}
