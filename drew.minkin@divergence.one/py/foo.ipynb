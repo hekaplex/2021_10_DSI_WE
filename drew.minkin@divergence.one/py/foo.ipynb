{
 "cells": [
  {
   "cell_type": "code",
   "execution_count": null,
   "metadata": {},
   "outputs": [],
   "source": []
  },
  {
   "cell_type": "markdown",
   "metadata": {},
   "source": [
    "Initial Exercise\n",
    "1. List one goal for betweeen now and Indpendence Day '22\n",
    "1. List one goal for betweeen now and Indpendence Day '23\n",
    "1. Choose a role (DA Data Analyst ,DS Data Scientist ,DE Data Engineer or AAD Analytic Application Developer)\n",
    "1. List first idea of goals for capstone\n",
    "\n",
    "\n",
    "\n",
    "# Markdown Basics\n",
    "---\n",
    "# H1\n",
    "## H2\n",
    "### H3\n",
    "**bold text**\n",
    "*italicized text*\n",
    "> blockquote\n",
    "1. First item\n",
    "2. Second item\n",
    "3. Third item\n",
    "- First item\n",
    "- Second item\n",
    "- Third item\n",
    "`code`\n",
    "---\n",
    "[URL](https://www.example.com)\n",
    "---\n",
    "![alt text for image](image.jpg)\n",
    "---\n",
    "---\n",
    " \n",
    "\n",
    "# Advanced  Markdown\n",
    "| Syntax | Description |\n",
    "| ----------- | ----------- |\n",
    "| Header | Title |\n",
    "| Paragraph | Text |\n",
    "```\n",
    "{\n",
    "  \"firstName\": \"John\",\n",
    "  \"lastName\": \"Smith\",\n",
    "  \"age\": 25\n",
    "}\n",
    "```\n",
    "Here's a sentence with a footnote. [^1]\n",
    "\n",
    "[^1]: This is the footnote.\n",
    "### My Great Heading {#custom-id}\n",
    "term\n",
    ": definition\n",
    "~~The world is flat.~~\n",
    "- [x] Write the press release\n",
    "- [ ] Update the website\n",
    "- [ ] Contact the media\n",
    "That is so funny! :joy:\n",
    "\n"
   ]
  },
  {
   "cell_type": "markdown",
   "metadata": {},
   "source": []
  }
 ],
 "metadata": {
  "language_info": {
   "name": "python"
  },
  "orig_nbformat": 4
 },
 "nbformat": 4,
 "nbformat_minor": 2
}
