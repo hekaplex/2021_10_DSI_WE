{
 "cells": [
  {
   "cell_type": "markdown",
   "metadata": {},
   "source": [
    "# Chapter 5: How to get the data"
   ]
  },
  {
   "cell_type": "raw",
   "metadata": {},
   "source": [
    "Before you run the examples in this Notebook, make sure you run this Notebook:\n",
    "\n",
    "python_analysis/data/download_more_data.ipynb\n",
    "\n",
    "This is described in appendixes A and B, and it downloads several large data files that are used by this Notebook."
   ]
  },
  {
   "cell_type": "code",
   "execution_count": null,
   "metadata": {},
   "outputs": [],
   "source": [
    "import pandas as pd"
   ]
  },
  {
   "cell_type": "code",
   "execution_count": null,
   "metadata": {},
   "outputs": [],
   "source": [
    "from urllib import request\n",
    "fires_url = 'https://www.fs.usda.gov/rds/archive/products/RDS-2013-0009.4/RDS-2013-0009.4_SQLITE.zip'\n",
    "request.urlretrieve(fires_url, filename='RDS-2013-0009.4_SQLITE.zip')"
   ]
  },
  {
   "cell_type": "markdown",
   "metadata": {},
   "source": [
    "## How to import a CSV file from a website"
   ]
  },
  {
   "cell_type": "code",
   "execution_count": null,
   "metadata": {},
   "outputs": [],
   "source": [
    "mortality_url = \"https://data.cdc.gov/api/views/v6ab-adf5/rows.csv?accessType=DOWNLOAD\"\n",
    "mortality_data = pd.read_csv(mortality_url)"
   ]
  },
  {
   "cell_type": "markdown",
   "metadata": {},
   "source": [
    "## How to import the first sheet of an Excel file"
   ]
  },
  {
   "cell_type": "code",
   "execution_count": null,
   "metadata": {},
   "outputs": [],
   "source": [
    "# NOTE: This code example is presented later in this Notebook, after the Excel file has been downloaded"
   ]
  },
  {
   "cell_type": "markdown",
   "metadata": {},
   "source": [
    "## How to download a file to disk before importing it"
   ]
  },
  {
   "cell_type": "code",
   "execution_count": null,
   "metadata": {},
   "outputs": [],
   "source": [
    "from urllib import request\n",
    "polls_url = \\\n",
    "    'http://projects.fivethirtyeight.com/general-model/president_general_polls_2016.csv'\n",
    "request.urlretrieve(polls_url, filename='president_polls_2016.csv')"
   ]
  },
  {
   "cell_type": "code",
   "execution_count": null,
   "metadata": {},
   "outputs": [],
   "source": [
    "polls = pd.read_csv('president_polls_2016.csv')\n",
    "polls.head(2)"
   ]
  },
  {
   "cell_type": "markdown",
   "metadata": {},
   "source": [
    "## How to work with a zip file on disk"
   ]
  },
  {
   "cell_type": "markdown",
   "metadata": {},
   "source": [
    "### Download the zip file to disk"
   ]
  },
  {
   "cell_type": "code",
   "execution_count": null,
   "metadata": {},
   "outputs": [],
   "source": [
    "# NOTE: This code may take a long time to run\n",
    "from urllib import request\n",
    "zip_url = 'https://www.bls.gov/oes/special.requests/oesm18all.zip'\n",
    "request.urlretrieve(zip_url, filename='oesm18all.zip')"
   ]
  },
  {
   "cell_type": "markdown",
   "metadata": {},
   "source": [
    "### Extract the files and list their names"
   ]
  },
  {
   "cell_type": "code",
   "execution_count": null,
   "metadata": {},
   "outputs": [],
   "source": [
    "from zipfile import ZipFile\n",
    "file_names = list() \n",
    "with ZipFile('oesm18all.zip', mode='r') as zip:\n",
    "    zip.extractall()\n",
    "    for file in zip.infolist():\n",
    "        file_names.append(file.filename)\n",
    "        print(file.filename, file.compress_size, file.file_size)"
   ]
  },
  {
   "cell_type": "markdown",
   "metadata": {},
   "source": [
    "### Two ways to read an extracted file into a DataFrame"
   ]
  },
  {
   "cell_type": "code",
   "execution_count": null,
   "metadata": {},
   "outputs": [],
   "source": [
    "# NOTE: This code may take a long time to run\n",
    "jobs = pd.read_excel(\"oesm18all/all_data_M_2018.xlsx\")"
   ]
  },
  {
   "cell_type": "code",
   "execution_count": 29,
   "metadata": {},
   "outputs": [
    {
     "name": "stdout",
     "output_type": "stream",
     "text": [
      "<class 'pandas.core.frame.DataFrame'>\n",
      "RangeIndex: 403895 entries, 0 to 403894\n",
      "Data columns (total 30 columns):\n",
      " #   Column        Non-Null Count   Dtype \n",
      "---  ------        --------------   ----- \n",
      " 0   area          403895 non-null  int64 \n",
      " 1   area_title    403895 non-null  object\n",
      " 2   area_type     403895 non-null  int64 \n",
      " 3   naics         403895 non-null  object\n",
      " 4   naics_title   403895 non-null  object\n",
      " 5   i_group       403895 non-null  object\n",
      " 6   own_code      403895 non-null  int64 \n",
      " 7   occ_code      403895 non-null  object\n",
      " 8   occ_title     403895 non-null  object\n",
      " 9   o_group       403895 non-null  object\n",
      " 10  tot_emp       403895 non-null  object\n",
      " 11  emp_prse      403895 non-null  object\n",
      " 12  jobs_1000     227944 non-null  object\n",
      " 13  loc_quotient  227944 non-null  object\n",
      " 14  pct_total     169080 non-null  object\n",
      " 15  h_mean        403895 non-null  object\n",
      " 16  a_mean        403895 non-null  object\n",
      " 17  mean_prse     403895 non-null  object\n",
      " 18  h_pct10       403895 non-null  object\n",
      " 19  h_pct25       403895 non-null  object\n",
      " 20  h_median      403895 non-null  object\n",
      " 21  h_pct75       403895 non-null  object\n",
      " 22  h_pct90       403895 non-null  object\n",
      " 23  a_pct10       403895 non-null  object\n",
      " 24  a_pct25       403895 non-null  object\n",
      " 25  a_median      403895 non-null  object\n",
      " 26  a_pct75       403895 non-null  object\n",
      " 27  a_pct90       403895 non-null  object\n",
      " 28  annual        15682 non-null   object\n",
      " 29  hourly        729 non-null     object\n",
      "dtypes: int64(3), object(27)\n",
      "memory usage: 470.0 MB\n"
     ]
    }
   ],
   "source": [
    "# NOTE: This code may take a long time to run\n",
    "jobs.info(verbose=True, memory_usage='deep', show_counts=True)"
   ]
  },
  {
   "cell_type": "code",
   "execution_count": 30,
   "metadata": {},
   "outputs": [
    {
     "name": "stderr",
     "output_type": "stream",
     "text": [
      "C:\\Users\\andre\\AppData\\Local\\Temp/ipykernel_31160/977832008.py:1: FutureWarning: The default value of regex will change from True to False in a future version.\n",
      "  jobs.columns = jobs.columns \\\n",
      "C:\\Users\\andre\\AppData\\Local\\Temp/ipykernel_31160/977832008.py:1: FutureWarning: The default value of regex will change from True to False in a future version.\n",
      "  jobs.columns = jobs.columns \\\n"
     ]
    }
   ],
   "source": [
    "jobs.columns = jobs.columns \\\n",
    "    .str.replace('^a_','annual_') \\\n",
    "    .str.replace('^h_','hourly_') \\\n",
    "    .str.replace('_pct','_percent')"
   ]
  },
  {
   "cell_type": "code",
   "execution_count": 31,
   "metadata": {},
   "outputs": [
    {
     "data": {
      "text/plain": [
       "403892    170\n",
       "403893    130\n",
       "403894     **\n",
       "Name: tot_emp, dtype: object"
      ]
     },
     "execution_count": 31,
     "metadata": {},
     "output_type": "execute_result"
    }
   ],
   "source": [
    "jobs.tot_emp.tail(3)\n"
   ]
  },
  {
   "cell_type": "code",
   "execution_count": 33,
   "metadata": {},
   "outputs": [
    {
     "data": {
      "text/plain": [
       "403892    170.0\n",
       "403893    130.0\n",
       "403894      NaN\n",
       "Name: tot_emp, dtype: float64"
      ]
     },
     "execution_count": 33,
     "metadata": {},
     "output_type": "execute_result"
    }
   ],
   "source": [
    "pd.to_numeric(jobs.tot_emp, errors='coerce').tail(3)\n"
   ]
  },
  {
   "cell_type": "code",
   "execution_count": 34,
   "metadata": {},
   "outputs": [],
   "source": [
    "import numpy as np\n",
    "jobs.tot_emp.replace(to_replace=['*','**'], value=[np.nan,np.nan]) # ,inplace=True)\n",
    "jobs.tot_emp.replace({'*':np.nan, '**':np.nan}, inplace=True)\n",
    "jobs.hourly_median = jobs.hourly_median.replace(to_replace='#', value = 100)\n",
    "jobs.hourly.replace(to_replace=np.nan, value=False, inplace=True)"
   ]
  },
  {
   "cell_type": "markdown",
   "metadata": {},
   "source": [
    "## How to run queries against a database"
   ]
  },
  {
   "cell_type": "code",
   "execution_count": null,
   "metadata": {},
   "outputs": [],
   "source": [
    "import sqlite3\n",
    "fires_con = sqlite3.connect('Data/FPA_FOD_20170508.sqlite')\n",
    "fires_cur = fires_con.cursor()"
   ]
  },
  {
   "cell_type": "code",
   "execution_count": null,
   "metadata": {},
   "outputs": [],
   "source": [
    "fires_cur.execute(\n",
    "    'SELECT name FROM sqlite_master WHERE type=\"table\"').fetchall()"
   ]
  },
  {
   "cell_type": "code",
   "execution_count": null,
   "metadata": {},
   "outputs": [],
   "source": [
    "fires_cur.execute(\n",
    "    'SELECT * FROM Fires LIMIT 100').fetchall()"
   ]
  },
  {
   "cell_type": "markdown",
   "metadata": {},
   "source": [
    "## How to use a SQL query to import data into a DataFrame"
   ]
  },
  {
   "cell_type": "markdown",
   "metadata": {},
   "source": [
    "### Get information about a table"
   ]
  },
  {
   "cell_type": "code",
   "execution_count": null,
   "metadata": {},
   "outputs": [],
   "source": [
    "fires_cur.execute('PRAGMA table_info(Fires)').fetchall()"
   ]
  },
  {
   "cell_type": "markdown",
   "metadata": {},
   "source": [
    "### Import the data from a query into a DataFrame"
   ]
  },
  {
   "cell_type": "code",
   "execution_count": null,
   "metadata": {},
   "outputs": [],
   "source": [
    "# NOTE: This code may take a long time to run\n",
    "fires = pd.read_sql_query(\n",
    "    '''SELECT STATE, FIRE_YEAR, DATETIME(DISCOVERY_DATE) AS DISCOVERY_DATE,\n",
    "       FIRE_NAME, FIRE_SIZE, LATITUDE, LONGITUDE\n",
    "    FROM Fires''', fires_con)\n",
    "fires.head()"
   ]
  },
  {
   "cell_type": "code",
   "execution_count": null,
   "metadata": {},
   "outputs": [],
   "source": [
    "len(fires)"
   ]
  },
  {
   "cell_type": "markdown",
   "metadata": {},
   "source": [
    "## How to build DataFrames for the metadata and the data in a Stata file"
   ]
  },
  {
   "cell_type": "markdown",
   "metadata": {},
   "source": [
    "### Get metadata from a Stata file"
   ]
  },
  {
   "cell_type": "code",
   "execution_count": null,
   "metadata": {},
   "outputs": [],
   "source": [
    "!pip install pyreadstat"
   ]
  },
  {
   "cell_type": "code",
   "execution_count": null,
   "metadata": {},
   "outputs": [],
   "source": [
    "import pyreadstat\n",
    "gss_stata_filename = 'GSS7218_R3.DTA'\n",
    "gss_empty, gss_meta = pyreadstat.read_dta(\n",
    "    gss_stata_filename,\n",
    "    metadataonly=True)\n",
    "type(gss_meta)"
   ]
  },
  {
   "cell_type": "markdown",
   "metadata": {},
   "source": [
    "### What the attributes of the metadata container can tell you"
   ]
  },
  {
   "cell_type": "code",
   "execution_count": null,
   "metadata": {},
   "outputs": [],
   "source": [
    "print(\"Number of columns:\", gss_meta.number_columns)\n",
    "print(\"Number of rows:\", gss_meta.number_rows)\n",
    "print(\"Column names:\", gss_meta.column_names)"
   ]
  },
  {
   "cell_type": "markdown",
   "metadata": {},
   "source": [
    "### How to build a DataFrame for the column descriptions in the metadata"
   ]
  },
  {
   "cell_type": "code",
   "execution_count": null,
   "metadata": {},
   "outputs": [],
   "source": [
    "meta_cols=pd.DataFrame(\n",
    "    data=gss_meta.column_labels,\n",
    "    index=gss_meta.column_names,\n",
    "    columns=['description'])\n",
    "meta_cols.head(5)"
   ]
  },
  {
   "cell_type": "markdown",
   "metadata": {},
   "source": [
    "### How to import columns of the data into a DataFrame"
   ]
  },
  {
   "cell_type": "code",
   "execution_count": null,
   "metadata": {},
   "outputs": [],
   "source": [
    "gss_data = pd.read_stata('GSS7218_R3.DTA',\n",
    "    columns=['year','id','wrkstat','hrs1','hrs2','evwork','wrkslf','wrkgovt'])\n",
    "gss_data.tail()"
   ]
  },
  {
   "cell_type": "markdown",
   "metadata": {},
   "source": [
    "## How to download a JSON file"
   ]
  },
  {
   "cell_type": "code",
   "execution_count": 24,
   "metadata": {},
   "outputs": [
    {
     "data": {
      "text/plain": [
       "('shots.json', <http.client.HTTPMessage at 0x1ca9ff062b0>)"
      ]
     },
     "execution_count": 24,
     "metadata": {},
     "output_type": "execute_result"
    }
   ],
   "source": [
    "import json\n",
    "from urllib import request\n",
    "shots_url = 'https://www.murach.com/python_analysis/shots.json'\n",
    "request.urlretrieve(shots_url, filename='shots.json')"
   ]
  },
  {
   "cell_type": "markdown",
   "metadata": {},
   "source": [
    "## How to build a DataFrame for the data"
   ]
  },
  {
   "cell_type": "code",
   "execution_count": 25,
   "metadata": {},
   "outputs": [],
   "source": [
    "with open('shots.json') as json_data:\n",
    "    shots = json.load(json_data)"
   ]
  },
  {
   "cell_type": "code",
   "execution_count": 28,
   "metadata": {},
   "outputs": [
    {
     "data": {
      "text/html": [
       "<div>\n",
       "<style scoped>\n",
       "    .dataframe tbody tr th:only-of-type {\n",
       "        vertical-align: middle;\n",
       "    }\n",
       "\n",
       "    .dataframe tbody tr th {\n",
       "        vertical-align: top;\n",
       "    }\n",
       "\n",
       "    .dataframe thead th {\n",
       "        text-align: right;\n",
       "    }\n",
       "</style>\n",
       "<table border=\"1\" class=\"dataframe\">\n",
       "  <thead>\n",
       "    <tr style=\"text-align: right;\">\n",
       "      <th></th>\n",
       "      <th>grid_type</th>\n",
       "      <th>game_id</th>\n",
       "      <th>game_event_id</th>\n",
       "      <th>player_id</th>\n",
       "      <th>player_name</th>\n",
       "      <th>team_id</th>\n",
       "      <th>team_name</th>\n",
       "      <th>period</th>\n",
       "      <th>minutes_remaining</th>\n",
       "      <th>seconds_remaining</th>\n",
       "      <th>...</th>\n",
       "      <th>shot_zone_area</th>\n",
       "      <th>shot_zone_range</th>\n",
       "      <th>shot_distance</th>\n",
       "      <th>loc_x</th>\n",
       "      <th>loc_y</th>\n",
       "      <th>shot_attempted_flag</th>\n",
       "      <th>shot_made_flag</th>\n",
       "      <th>game_date</th>\n",
       "      <th>htm</th>\n",
       "      <th>vtm</th>\n",
       "    </tr>\n",
       "  </thead>\n",
       "  <tbody>\n",
       "    <tr>\n",
       "      <th>0</th>\n",
       "      <td>Shot Chart Detail</td>\n",
       "      <td>0020900015</td>\n",
       "      <td>4</td>\n",
       "      <td>201939</td>\n",
       "      <td>Stephen Curry</td>\n",
       "      <td>1610612744</td>\n",
       "      <td>Golden State Warriors</td>\n",
       "      <td>1</td>\n",
       "      <td>11</td>\n",
       "      <td>25</td>\n",
       "      <td>...</td>\n",
       "      <td>Right Side Center(RC)</td>\n",
       "      <td>24+ ft.</td>\n",
       "      <td>26</td>\n",
       "      <td>99</td>\n",
       "      <td>249</td>\n",
       "      <td>1</td>\n",
       "      <td>0</td>\n",
       "      <td>20091028</td>\n",
       "      <td>GSW</td>\n",
       "      <td>HOU</td>\n",
       "    </tr>\n",
       "    <tr>\n",
       "      <th>1</th>\n",
       "      <td>Shot Chart Detail</td>\n",
       "      <td>0020900015</td>\n",
       "      <td>17</td>\n",
       "      <td>201939</td>\n",
       "      <td>Stephen Curry</td>\n",
       "      <td>1610612744</td>\n",
       "      <td>Golden State Warriors</td>\n",
       "      <td>1</td>\n",
       "      <td>9</td>\n",
       "      <td>31</td>\n",
       "      <td>...</td>\n",
       "      <td>Left Side Center(LC)</td>\n",
       "      <td>16-24 ft.</td>\n",
       "      <td>18</td>\n",
       "      <td>-122</td>\n",
       "      <td>145</td>\n",
       "      <td>1</td>\n",
       "      <td>1</td>\n",
       "      <td>20091028</td>\n",
       "      <td>GSW</td>\n",
       "      <td>HOU</td>\n",
       "    </tr>\n",
       "    <tr>\n",
       "      <th>2</th>\n",
       "      <td>Shot Chart Detail</td>\n",
       "      <td>0020900015</td>\n",
       "      <td>53</td>\n",
       "      <td>201939</td>\n",
       "      <td>Stephen Curry</td>\n",
       "      <td>1610612744</td>\n",
       "      <td>Golden State Warriors</td>\n",
       "      <td>1</td>\n",
       "      <td>6</td>\n",
       "      <td>2</td>\n",
       "      <td>...</td>\n",
       "      <td>Center(C)</td>\n",
       "      <td>8-16 ft.</td>\n",
       "      <td>14</td>\n",
       "      <td>-60</td>\n",
       "      <td>129</td>\n",
       "      <td>1</td>\n",
       "      <td>0</td>\n",
       "      <td>20091028</td>\n",
       "      <td>GSW</td>\n",
       "      <td>HOU</td>\n",
       "    </tr>\n",
       "    <tr>\n",
       "      <th>3</th>\n",
       "      <td>Shot Chart Detail</td>\n",
       "      <td>0020900015</td>\n",
       "      <td>141</td>\n",
       "      <td>201939</td>\n",
       "      <td>Stephen Curry</td>\n",
       "      <td>1610612744</td>\n",
       "      <td>Golden State Warriors</td>\n",
       "      <td>2</td>\n",
       "      <td>9</td>\n",
       "      <td>49</td>\n",
       "      <td>...</td>\n",
       "      <td>Left Side(L)</td>\n",
       "      <td>16-24 ft.</td>\n",
       "      <td>19</td>\n",
       "      <td>-172</td>\n",
       "      <td>82</td>\n",
       "      <td>1</td>\n",
       "      <td>0</td>\n",
       "      <td>20091028</td>\n",
       "      <td>GSW</td>\n",
       "      <td>HOU</td>\n",
       "    </tr>\n",
       "    <tr>\n",
       "      <th>4</th>\n",
       "      <td>Shot Chart Detail</td>\n",
       "      <td>0020900015</td>\n",
       "      <td>249</td>\n",
       "      <td>201939</td>\n",
       "      <td>Stephen Curry</td>\n",
       "      <td>1610612744</td>\n",
       "      <td>Golden State Warriors</td>\n",
       "      <td>2</td>\n",
       "      <td>2</td>\n",
       "      <td>19</td>\n",
       "      <td>...</td>\n",
       "      <td>Left Side Center(LC)</td>\n",
       "      <td>16-24 ft.</td>\n",
       "      <td>16</td>\n",
       "      <td>-68</td>\n",
       "      <td>148</td>\n",
       "      <td>1</td>\n",
       "      <td>0</td>\n",
       "      <td>20091028</td>\n",
       "      <td>GSW</td>\n",
       "      <td>HOU</td>\n",
       "    </tr>\n",
       "  </tbody>\n",
       "</table>\n",
       "<p>5 rows × 24 columns</p>\n",
       "</div>"
      ],
      "text/plain": [
       "           grid_type     game_id  game_event_id  player_id    player_name  \\\n",
       "0  Shot Chart Detail  0020900015              4     201939  Stephen Curry   \n",
       "1  Shot Chart Detail  0020900015             17     201939  Stephen Curry   \n",
       "2  Shot Chart Detail  0020900015             53     201939  Stephen Curry   \n",
       "3  Shot Chart Detail  0020900015            141     201939  Stephen Curry   \n",
       "4  Shot Chart Detail  0020900015            249     201939  Stephen Curry   \n",
       "\n",
       "      team_id              team_name  period  minutes_remaining  \\\n",
       "0  1610612744  Golden State Warriors       1                 11   \n",
       "1  1610612744  Golden State Warriors       1                  9   \n",
       "2  1610612744  Golden State Warriors       1                  6   \n",
       "3  1610612744  Golden State Warriors       2                  9   \n",
       "4  1610612744  Golden State Warriors       2                  2   \n",
       "\n",
       "   seconds_remaining  ...         shot_zone_area shot_zone_range  \\\n",
       "0                 25  ...  Right Side Center(RC)         24+ ft.   \n",
       "1                 31  ...   Left Side Center(LC)       16-24 ft.   \n",
       "2                  2  ...              Center(C)        8-16 ft.   \n",
       "3                 49  ...           Left Side(L)       16-24 ft.   \n",
       "4                 19  ...   Left Side Center(LC)       16-24 ft.   \n",
       "\n",
       "  shot_distance loc_x loc_y shot_attempted_flag  shot_made_flag  game_date  \\\n",
       "0            26    99   249                   1               0   20091028   \n",
       "1            18  -122   145                   1               1   20091028   \n",
       "2            14   -60   129                   1               0   20091028   \n",
       "3            19  -172    82                   1               0   20091028   \n",
       "4            16   -68   148                   1               0   20091028   \n",
       "\n",
       "   htm  vtm  \n",
       "0  GSW  HOU  \n",
       "1  GSW  HOU  \n",
       "2  GSW  HOU  \n",
       "3  GSW  HOU  \n",
       "4  GSW  HOU  \n",
       "\n",
       "[5 rows x 24 columns]"
      ]
     },
     "execution_count": 28,
     "metadata": {},
     "output_type": "execute_result"
    }
   ],
   "source": [
    "allRows = shots['resultSets'][0]['rowSet']\n",
    "columnHeaders = [x.lower() for x in shots['resultSets'][0]['headers']]\n",
    "shots = pd.DataFrame(data=allRows, columns=columnHeaders)\n",
    "shots.head()"
   ]
  },
  {
   "cell_type": "code",
   "execution_count": 27,
   "metadata": {},
   "outputs": [
    {
     "data": {
      "text/plain": [
       "{'name': 'LeagueAverages',\n",
       " 'headers': ['GRID_TYPE',\n",
       "  'SHOT_ZONE_BASIC',\n",
       "  'SHOT_ZONE_AREA',\n",
       "  'SHOT_ZONE_RANGE',\n",
       "  'FGA',\n",
       "  'FGM',\n",
       "  'FG_PCT'],\n",
       " 'rowSet': [['League Averages',\n",
       "   'Above the Break 3',\n",
       "   'Back Court(BC)',\n",
       "   'Back Court Shot',\n",
       "   2052,\n",
       "   71,\n",
       "   0.035],\n",
       "  ['League Averages',\n",
       "   'Above the Break 3',\n",
       "   'Center(C)',\n",
       "   '24+ ft.',\n",
       "   170403,\n",
       "   58640,\n",
       "   0.344],\n",
       "  ['League Averages',\n",
       "   'Above the Break 3',\n",
       "   'Left Side Center(LC)',\n",
       "   '24+ ft.',\n",
       "   286101,\n",
       "   99899,\n",
       "   0.349],\n",
       "  ['League Averages',\n",
       "   'Above the Break 3',\n",
       "   'Right Side Center(RC)',\n",
       "   '24+ ft.',\n",
       "   281513,\n",
       "   99450,\n",
       "   0.353],\n",
       "  ['League Averages',\n",
       "   'Backcourt',\n",
       "   'Back Court(BC)',\n",
       "   'Back Court Shot',\n",
       "   8621,\n",
       "   231,\n",
       "   0.027],\n",
       "  ['League Averages',\n",
       "   'In The Paint (Non-RA)',\n",
       "   'Center(C)',\n",
       "   '8-16 ft.',\n",
       "   142361,\n",
       "   58460,\n",
       "   0.411],\n",
       "  ['League Averages',\n",
       "   'In The Paint (Non-RA)',\n",
       "   'Center(C)',\n",
       "   'Less Than 8 ft.',\n",
       "   405784,\n",
       "   158154,\n",
       "   0.39],\n",
       "  ['League Averages',\n",
       "   'In The Paint (Non-RA)',\n",
       "   'Left Side(L)',\n",
       "   '8-16 ft.',\n",
       "   43992,\n",
       "   17493,\n",
       "   0.398],\n",
       "  ['League Averages',\n",
       "   'In The Paint (Non-RA)',\n",
       "   'Right Side(R)',\n",
       "   '8-16 ft.',\n",
       "   44744,\n",
       "   17611,\n",
       "   0.394],\n",
       "  ['League Averages',\n",
       "   'Left Corner 3',\n",
       "   'Left Side(L)',\n",
       "   '24+ ft.',\n",
       "   133113,\n",
       "   51099,\n",
       "   0.384],\n",
       "  ['League Averages',\n",
       "   'Mid-Range',\n",
       "   'Center(C)',\n",
       "   '8-16 ft.',\n",
       "   43868,\n",
       "   18622,\n",
       "   0.425],\n",
       "  ['League Averages',\n",
       "   'Mid-Range',\n",
       "   'Center(C)',\n",
       "   '16-24 ft.',\n",
       "   154819,\n",
       "   61985,\n",
       "   0.4],\n",
       "  ['League Averages',\n",
       "   'Mid-Range',\n",
       "   'Left Side Center(LC)',\n",
       "   '16-24 ft.',\n",
       "   192426,\n",
       "   77040,\n",
       "   0.4],\n",
       "  ['League Averages',\n",
       "   'Mid-Range',\n",
       "   'Left Side(L)',\n",
       "   '16-24 ft.',\n",
       "   182493,\n",
       "   73175,\n",
       "   0.401],\n",
       "  ['League Averages',\n",
       "   'Mid-Range',\n",
       "   'Left Side(L)',\n",
       "   '8-16 ft.',\n",
       "   231027,\n",
       "   88302,\n",
       "   0.382],\n",
       "  ['League Averages',\n",
       "   'Mid-Range',\n",
       "   'Right Side Center(RC)',\n",
       "   '16-24 ft.',\n",
       "   208453,\n",
       "   83099,\n",
       "   0.399],\n",
       "  ['League Averages',\n",
       "   'Mid-Range',\n",
       "   'Right Side(R)',\n",
       "   '16-24 ft.',\n",
       "   164102,\n",
       "   65483,\n",
       "   0.399],\n",
       "  ['League Averages',\n",
       "   'Mid-Range',\n",
       "   'Right Side(R)',\n",
       "   '8-16 ft.',\n",
       "   210163,\n",
       "   80256,\n",
       "   0.382],\n",
       "  ['League Averages',\n",
       "   'Restricted Area',\n",
       "   'Center(C)',\n",
       "   'Less Than 8 ft.',\n",
       "   1433266,\n",
       "   861047,\n",
       "   0.601],\n",
       "  ['League Averages',\n",
       "   'Right Corner 3',\n",
       "   'Right Side(R)',\n",
       "   '24+ ft.',\n",
       "   123964,\n",
       "   48036,\n",
       "   0.387]]}"
      ]
     },
     "execution_count": 27,
     "metadata": {},
     "output_type": "execute_result"
    }
   ],
   "source": [
    "shots['resultSets'][1]"
   ]
  },
  {
   "cell_type": "code",
   "execution_count": null,
   "metadata": {},
   "outputs": [],
   "source": []
  }
 ],
 "metadata": {
  "kernelspec": {
   "display_name": "Python 3",
   "language": "python",
   "name": "python3"
  },
  "language_info": {
   "codemirror_mode": {
    "name": "ipython",
    "version": 3
   },
   "file_extension": ".py",
   "mimetype": "text/x-python",
   "name": "python",
   "nbconvert_exporter": "python",
   "pygments_lexer": "ipython3",
   "version": "3.8.12"
  }
 },
 "nbformat": 4,
 "nbformat_minor": 4
}
