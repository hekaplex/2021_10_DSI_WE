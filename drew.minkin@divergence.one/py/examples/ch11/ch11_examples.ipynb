{
 "cells": [
  {
   "cell_type": "markdown",
   "metadata": {},
   "source": [
    "# Chapter 11: How to make predictions with a multiple regression model"
   ]
  },
  {
   "cell_type": "code",
   "execution_count": 1,
   "metadata": {},
   "outputs": [],
   "source": [
    "import pandas as pd\n",
    "import seaborn as sns"
   ]
  },
  {
   "cell_type": "markdown",
   "metadata": {},
   "source": [
    "## The Cars dataset"
   ]
  },
  {
   "cell_type": "code",
   "execution_count": 2,
   "metadata": {},
   "outputs": [],
   "source": [
    "carsData = pd.read_csv('cars.csv')"
   ]
  },
  {
   "cell_type": "code",
   "execution_count": 3,
   "metadata": {},
   "outputs": [
    {
     "data": {
      "text/html": [
       "<div>\n",
       "<style scoped>\n",
       "    .dataframe tbody tr th:only-of-type {\n",
       "        vertical-align: middle;\n",
       "    }\n",
       "\n",
       "    .dataframe tbody tr th {\n",
       "        vertical-align: top;\n",
       "    }\n",
       "\n",
       "    .dataframe thead th {\n",
       "        text-align: right;\n",
       "    }\n",
       "</style>\n",
       "<table border=\"1\" class=\"dataframe\">\n",
       "  <thead>\n",
       "    <tr style=\"text-align: right;\">\n",
       "      <th></th>\n",
       "      <th>car_ID</th>\n",
       "      <th>symboling</th>\n",
       "      <th>CarName</th>\n",
       "      <th>fueltype</th>\n",
       "      <th>aspiration</th>\n",
       "      <th>doornumber</th>\n",
       "      <th>carbody</th>\n",
       "      <th>drivewheel</th>\n",
       "      <th>enginelocation</th>\n",
       "      <th>wheelbase</th>\n",
       "      <th>...</th>\n",
       "      <th>enginesize</th>\n",
       "      <th>fuelsystem</th>\n",
       "      <th>boreratio</th>\n",
       "      <th>stroke</th>\n",
       "      <th>compressionratio</th>\n",
       "      <th>horsepower</th>\n",
       "      <th>peakrpm</th>\n",
       "      <th>citympg</th>\n",
       "      <th>highwaympg</th>\n",
       "      <th>price</th>\n",
       "    </tr>\n",
       "  </thead>\n",
       "  <tbody>\n",
       "    <tr>\n",
       "      <th>0</th>\n",
       "      <td>1</td>\n",
       "      <td>3</td>\n",
       "      <td>alfa-romero giulia</td>\n",
       "      <td>gas</td>\n",
       "      <td>std</td>\n",
       "      <td>two</td>\n",
       "      <td>convertible</td>\n",
       "      <td>rwd</td>\n",
       "      <td>front</td>\n",
       "      <td>88.6</td>\n",
       "      <td>...</td>\n",
       "      <td>130</td>\n",
       "      <td>mpfi</td>\n",
       "      <td>3.47</td>\n",
       "      <td>2.68</td>\n",
       "      <td>9.0</td>\n",
       "      <td>111</td>\n",
       "      <td>5000</td>\n",
       "      <td>21</td>\n",
       "      <td>27</td>\n",
       "      <td>13495.0</td>\n",
       "    </tr>\n",
       "    <tr>\n",
       "      <th>1</th>\n",
       "      <td>2</td>\n",
       "      <td>3</td>\n",
       "      <td>alfa-romero stelvio</td>\n",
       "      <td>gas</td>\n",
       "      <td>std</td>\n",
       "      <td>two</td>\n",
       "      <td>convertible</td>\n",
       "      <td>rwd</td>\n",
       "      <td>front</td>\n",
       "      <td>88.6</td>\n",
       "      <td>...</td>\n",
       "      <td>130</td>\n",
       "      <td>mpfi</td>\n",
       "      <td>3.47</td>\n",
       "      <td>2.68</td>\n",
       "      <td>9.0</td>\n",
       "      <td>111</td>\n",
       "      <td>5000</td>\n",
       "      <td>21</td>\n",
       "      <td>27</td>\n",
       "      <td>16500.0</td>\n",
       "    </tr>\n",
       "    <tr>\n",
       "      <th>2</th>\n",
       "      <td>3</td>\n",
       "      <td>1</td>\n",
       "      <td>alfa-romero Quadrifoglio</td>\n",
       "      <td>gas</td>\n",
       "      <td>std</td>\n",
       "      <td>two</td>\n",
       "      <td>hatchback</td>\n",
       "      <td>rwd</td>\n",
       "      <td>front</td>\n",
       "      <td>94.5</td>\n",
       "      <td>...</td>\n",
       "      <td>152</td>\n",
       "      <td>mpfi</td>\n",
       "      <td>2.68</td>\n",
       "      <td>3.47</td>\n",
       "      <td>9.0</td>\n",
       "      <td>154</td>\n",
       "      <td>5000</td>\n",
       "      <td>19</td>\n",
       "      <td>26</td>\n",
       "      <td>16500.0</td>\n",
       "    </tr>\n",
       "    <tr>\n",
       "      <th>3</th>\n",
       "      <td>4</td>\n",
       "      <td>2</td>\n",
       "      <td>audi 100 ls</td>\n",
       "      <td>gas</td>\n",
       "      <td>std</td>\n",
       "      <td>four</td>\n",
       "      <td>sedan</td>\n",
       "      <td>fwd</td>\n",
       "      <td>front</td>\n",
       "      <td>99.8</td>\n",
       "      <td>...</td>\n",
       "      <td>109</td>\n",
       "      <td>mpfi</td>\n",
       "      <td>3.19</td>\n",
       "      <td>3.40</td>\n",
       "      <td>10.0</td>\n",
       "      <td>102</td>\n",
       "      <td>5500</td>\n",
       "      <td>24</td>\n",
       "      <td>30</td>\n",
       "      <td>13950.0</td>\n",
       "    </tr>\n",
       "    <tr>\n",
       "      <th>4</th>\n",
       "      <td>5</td>\n",
       "      <td>2</td>\n",
       "      <td>audi 100ls</td>\n",
       "      <td>gas</td>\n",
       "      <td>std</td>\n",
       "      <td>four</td>\n",
       "      <td>sedan</td>\n",
       "      <td>4wd</td>\n",
       "      <td>front</td>\n",
       "      <td>99.4</td>\n",
       "      <td>...</td>\n",
       "      <td>136</td>\n",
       "      <td>mpfi</td>\n",
       "      <td>3.19</td>\n",
       "      <td>3.40</td>\n",
       "      <td>8.0</td>\n",
       "      <td>115</td>\n",
       "      <td>5500</td>\n",
       "      <td>18</td>\n",
       "      <td>22</td>\n",
       "      <td>17450.0</td>\n",
       "    </tr>\n",
       "  </tbody>\n",
       "</table>\n",
       "<p>5 rows × 26 columns</p>\n",
       "</div>"
      ],
      "text/plain": [
       "   car_ID  symboling                   CarName fueltype aspiration doornumber  \\\n",
       "0       1          3        alfa-romero giulia      gas        std        two   \n",
       "1       2          3       alfa-romero stelvio      gas        std        two   \n",
       "2       3          1  alfa-romero Quadrifoglio      gas        std        two   \n",
       "3       4          2               audi 100 ls      gas        std       four   \n",
       "4       5          2                audi 100ls      gas        std       four   \n",
       "\n",
       "       carbody drivewheel enginelocation  wheelbase  ...  enginesize  \\\n",
       "0  convertible        rwd          front       88.6  ...         130   \n",
       "1  convertible        rwd          front       88.6  ...         130   \n",
       "2    hatchback        rwd          front       94.5  ...         152   \n",
       "3        sedan        fwd          front       99.8  ...         109   \n",
       "4        sedan        4wd          front       99.4  ...         136   \n",
       "\n",
       "   fuelsystem  boreratio  stroke compressionratio horsepower  peakrpm citympg  \\\n",
       "0        mpfi       3.47    2.68              9.0        111     5000      21   \n",
       "1        mpfi       3.47    2.68              9.0        111     5000      21   \n",
       "2        mpfi       2.68    3.47              9.0        154     5000      19   \n",
       "3        mpfi       3.19    3.40             10.0        102     5500      24   \n",
       "4        mpfi       3.19    3.40              8.0        115     5500      18   \n",
       "\n",
       "   highwaympg    price  \n",
       "0          27  13495.0  \n",
       "1          27  16500.0  \n",
       "2          26  16500.0  \n",
       "3          30  13950.0  \n",
       "4          22  17450.0  \n",
       "\n",
       "[5 rows x 26 columns]"
      ]
     },
     "execution_count": 3,
     "metadata": {},
     "output_type": "execute_result"
    }
   ],
   "source": [
    "carsData.head()"
   ]
  },
  {
   "cell_type": "code",
   "execution_count": 4,
   "metadata": {},
   "outputs": [
    {
     "name": "stdout",
     "output_type": "stream",
     "text": [
      "<class 'pandas.core.frame.DataFrame'>\n",
      "RangeIndex: 205 entries, 0 to 204\n",
      "Data columns (total 26 columns):\n",
      " #   Column            Non-Null Count  Dtype  \n",
      "---  ------            --------------  -----  \n",
      " 0   car_ID            205 non-null    int64  \n",
      " 1   symboling         205 non-null    int64  \n",
      " 2   CarName           205 non-null    object \n",
      " 3   fueltype          205 non-null    object \n",
      " 4   aspiration        205 non-null    object \n",
      " 5   doornumber        205 non-null    object \n",
      " 6   carbody           205 non-null    object \n",
      " 7   drivewheel        205 non-null    object \n",
      " 8   enginelocation    205 non-null    object \n",
      " 9   wheelbase         205 non-null    float64\n",
      " 10  carlength         205 non-null    float64\n",
      " 11  carwidth          205 non-null    float64\n",
      " 12  carheight         205 non-null    float64\n",
      " 13  curbweight        205 non-null    int64  \n",
      " 14  enginetype        205 non-null    object \n",
      " 15  cylindernumber    205 non-null    object \n",
      " 16  enginesize        205 non-null    int64  \n",
      " 17  fuelsystem        205 non-null    object \n",
      " 18  boreratio         205 non-null    float64\n",
      " 19  stroke            205 non-null    float64\n",
      " 20  compressionratio  205 non-null    float64\n",
      " 21  horsepower        205 non-null    int64  \n",
      " 22  peakrpm           205 non-null    int64  \n",
      " 23  citympg           205 non-null    int64  \n",
      " 24  highwaympg        205 non-null    int64  \n",
      " 25  price             205 non-null    float64\n",
      "dtypes: float64(8), int64(8), object(10)\n",
      "memory usage: 41.8+ KB\n"
     ]
    }
   ],
   "source": [
    "carsData.info()"
   ]
  },
  {
   "cell_type": "markdown",
   "metadata": {},
   "source": [
    "# How to create a simple regression model"
   ]
  },
  {
   "cell_type": "code",
   "execution_count": 5,
   "metadata": {},
   "outputs": [
    {
     "data": {
      "text/plain": [
       "<AxesSubplot:>"
      ]
     },
     "execution_count": 5,
     "metadata": {},
     "output_type": "execute_result"
    },
    {
     "data": {
      "image/png": "[encoded data removed]",
      "text/plain": [
       "<Figure size 432x288 with 1 Axes>"
      ]
     },
     "metadata": {
      "needs_background": "light"
     },
     "output_type": "display_data"
    }
   ],
   "source": [
    "sns.heatmap(data=carsData.corr()[['price']].sort_values('price', ascending=False), \n",
    "            annot=True, cmap='Blues', vmin=-1.0, vmax=1.0, cbar=False, fmt='.2f')"
   ]
  },
  {
   "cell_type": "code",
   "execution_count": 6,
   "metadata": {},
   "outputs": [],
   "source": [
    "from sklearn.linear_model import LinearRegression\n",
    "from sklearn.model_selection import train_test_split"
   ]
  },
  {
   "cell_type": "code",
   "execution_count": 7,
   "metadata": {},
   "outputs": [
    {
     "data": {
      "text/plain": [
       "0.7063964117029844"
      ]
     },
     "execution_count": 7,
     "metadata": {},
     "output_type": "execute_result"
    }
   ],
   "source": [
    "x_train, x_test, y_train, y_test = train_test_split(\n",
    "    carsData[['enginesize']], carsData[['price']],\n",
    "    test_size=0.20, random_state=20)\n",
    "\n",
    "model = LinearRegression()\n",
    "model.fit(x_train, y_train)\n",
    "#error measured as R-squared or coefficient of determination\n",
    "model.score(x_test,y_test)"
   ]
  },
  {
   "cell_type": "code",
   "execution_count": 8,
   "metadata": {},
   "outputs": [
    {
     "data": {
      "text/plain": [
       "0.766524123801206"
      ]
     },
     "execution_count": 8,
     "metadata": {},
     "output_type": "execute_result"
    }
   ],
   "source": [
    "model.score(x_train, y_train)"
   ]
  },
  {
   "cell_type": "code",
   "execution_count": 9,
   "metadata": {},
   "outputs": [],
   "source": [
    "y_predicted = model.predict(x_test)"
   ]
  },
  {
   "cell_type": "code",
   "execution_count": 11,
   "metadata": {},
   "outputs": [
    {
     "data": {
      "text/html": [
       "<div>\n",
       "<style scoped>\n",
       "    .dataframe tbody tr th:only-of-type {\n",
       "        vertical-align: middle;\n",
       "    }\n",
       "\n",
       "    .dataframe tbody tr th {\n",
       "        vertical-align: top;\n",
       "    }\n",
       "\n",
       "    .dataframe thead th {\n",
       "        text-align: right;\n",
       "    }\n",
       "</style>\n",
       "<table border=\"1\" class=\"dataframe\">\n",
       "  <thead>\n",
       "    <tr style=\"text-align: right;\">\n",
       "      <th></th>\n",
       "      <th>predictedPrice</th>\n",
       "      <th>enginesize</th>\n",
       "      <th>price</th>\n",
       "    </tr>\n",
       "  </thead>\n",
       "  <tbody>\n",
       "    <tr>\n",
       "      <th>0</th>\n",
       "      <td>14905.920686</td>\n",
       "      <td>136</td>\n",
       "      <td>15250.0</td>\n",
       "    </tr>\n",
       "    <tr>\n",
       "      <th>1</th>\n",
       "      <td>7164.387613</td>\n",
       "      <td>90</td>\n",
       "      <td>8916.5</td>\n",
       "    </tr>\n",
       "    <tr>\n",
       "      <th>2</th>\n",
       "      <td>7500.976007</td>\n",
       "      <td>92</td>\n",
       "      <td>8778.0</td>\n",
       "    </tr>\n",
       "    <tr>\n",
       "      <th>3</th>\n",
       "      <td>26181.631901</td>\n",
       "      <td>203</td>\n",
       "      <td>31400.5</td>\n",
       "    </tr>\n",
       "    <tr>\n",
       "      <th>4</th>\n",
       "      <td>7500.976007</td>\n",
       "      <td>92</td>\n",
       "      <td>6488.0</td>\n",
       "    </tr>\n",
       "  </tbody>\n",
       "</table>\n",
       "</div>"
      ],
      "text/plain": [
       "   predictedPrice  enginesize    price\n",
       "0    14905.920686         136  15250.0\n",
       "1     7164.387613          90   8916.5\n",
       "2     7500.976007          92   8778.0\n",
       "3    26181.631901         203  31400.5\n",
       "4     7500.976007          92   6488.0"
      ]
     },
     "execution_count": 11,
     "metadata": {},
     "output_type": "execute_result"
    }
   ],
   "source": [
    "# create DataFrame for the price predictions\n",
    "predicted = pd.DataFrame(y_predicted, columns=['predictedPrice'])\n",
    "\n",
    "# combine the test data and the predicted data into a frame\n",
    "final = predicted.join([x_test.reset_index(drop=True), \n",
    "                        y_test.reset_index(drop=True)])\n",
    "#final[['enginesize','price','predictedPrice']].head()\n",
    "final.head()"
   ]
  },
  {
   "cell_type": "markdown",
   "metadata": {},
   "source": [
    "## How to plot the residuals of a simple regression"
   ]
  },
  {
   "cell_type": "code",
   "execution_count": 12,
   "metadata": {},
   "outputs": [
    {
     "data": {
      "text/html": [
       "<div>\n",
       "<style scoped>\n",
       "    .dataframe tbody tr th:only-of-type {\n",
       "        vertical-align: middle;\n",
       "    }\n",
       "\n",
       "    .dataframe tbody tr th {\n",
       "        vertical-align: top;\n",
       "    }\n",
       "\n",
       "    .dataframe thead th {\n",
       "        text-align: right;\n",
       "    }\n",
       "</style>\n",
       "<table border=\"1\" class=\"dataframe\">\n",
       "  <thead>\n",
       "    <tr style=\"text-align: right;\">\n",
       "      <th></th>\n",
       "      <th>predictedPrice</th>\n",
       "      <th>enginesize</th>\n",
       "      <th>price</th>\n",
       "      <th>residual</th>\n",
       "    </tr>\n",
       "  </thead>\n",
       "  <tbody>\n",
       "    <tr>\n",
       "      <th>0</th>\n",
       "      <td>14905.920686</td>\n",
       "      <td>136</td>\n",
       "      <td>15250.0</td>\n",
       "      <td>344.079314</td>\n",
       "    </tr>\n",
       "    <tr>\n",
       "      <th>1</th>\n",
       "      <td>7164.387613</td>\n",
       "      <td>90</td>\n",
       "      <td>8916.5</td>\n",
       "      <td>1752.112387</td>\n",
       "    </tr>\n",
       "  </tbody>\n",
       "</table>\n",
       "</div>"
      ],
      "text/plain": [
       "   predictedPrice  enginesize    price     residual\n",
       "0    14905.920686         136  15250.0   344.079314\n",
       "1     7164.387613          90   8916.5  1752.112387"
      ]
     },
     "execution_count": 12,
     "metadata": {},
     "output_type": "execute_result"
    }
   ],
   "source": [
    "final['residual'] = final.price - final.predictedPrice\n",
    "final.head(2)"
   ]
  },
  {
   "cell_type": "code",
   "execution_count": 13,
   "metadata": {},
   "outputs": [
    {
     "data": {
      "image/png": "[encoded data removed]",
      "text/plain": [
       "<Figure size 360x360 with 1 Axes>"
      ]
     },
     "metadata": {
      "needs_background": "light"
     },
     "output_type": "display_data"
    }
   ],
   "source": [
    "g = sns.relplot(data=final, x='enginesize', y='residual', kind='scatter')\n",
    "for ax in g.axes.flat:\n",
    "    ax.axhline(0, ls='--')"
   ]
  },
  {
   "cell_type": "code",
   "execution_count": 14,
   "metadata": {},
   "outputs": [
    {
     "data": {
      "text/plain": [
       "<AxesSubplot:xlabel='residual', ylabel='Density'>"
      ]
     },
     "execution_count": 14,
     "metadata": {},
     "output_type": "execute_result"
    },
    {
     "data": {
      "image/png": "[encoded data removed]",
      "text/plain": [
       "<Figure size 432x288 with 1 Axes>"
      ]
     },
     "metadata": {
      "needs_background": "light"
     },
     "output_type": "display_data"
    }
   ],
   "source": [
    "sns.kdeplot(data=final, x='residual')"
   ]
  },
  {
   "cell_type": "markdown",
   "metadata": {},
   "source": [
    "# How to create a multiple regression model"
   ]
  },
  {
   "cell_type": "code",
   "execution_count": 15,
   "metadata": {},
   "outputs": [
    {
     "data": {
      "text/plain": [
       "0.7581072748679533"
      ]
     },
     "execution_count": 15,
     "metadata": {},
     "output_type": "execute_result"
    }
   ],
   "source": [
    "x_train, x_test, y_train, y_test = train_test_split(\n",
    "    carsData[['enginesize','curbweight']], carsData[['price']], \n",
    "    test_size=0.20, random_state=20)\n",
    "\n",
    "model = LinearRegression()\n",
    "model.fit(x_train, y_train)\n",
    "\n",
    "model.score(x_test, y_test)"
   ]
  },
  {
   "cell_type": "code",
   "execution_count": 16,
   "metadata": {},
   "outputs": [
    {
     "data": {
      "text/plain": [
       "0.7950435284247739"
      ]
     },
     "execution_count": 16,
     "metadata": {},
     "output_type": "execute_result"
    }
   ],
   "source": [
    "model.score(x_train, y_train)"
   ]
  },
  {
   "cell_type": "code",
   "execution_count": null,
   "metadata": {},
   "outputs": [],
   "source": [
    "y_predicted = model.predict(x_test)"
   ]
  },
  {
   "cell_type": "markdown",
   "metadata": {},
   "source": [
    "## How to prepare and plot the multiple regression"
   ]
  },
  {
   "cell_type": "code",
   "execution_count": 17,
   "metadata": {},
   "outputs": [
    {
     "data": {
      "text/html": [
       "<div>\n",
       "<style scoped>\n",
       "    .dataframe tbody tr th:only-of-type {\n",
       "        vertical-align: middle;\n",
       "    }\n",
       "\n",
       "    .dataframe tbody tr th {\n",
       "        vertical-align: top;\n",
       "    }\n",
       "\n",
       "    .dataframe thead th {\n",
       "        text-align: right;\n",
       "    }\n",
       "</style>\n",
       "<table border=\"1\" class=\"dataframe\">\n",
       "  <thead>\n",
       "    <tr style=\"text-align: right;\">\n",
       "      <th></th>\n",
       "      <th>enginesize</th>\n",
       "      <th>curbweight</th>\n",
       "      <th>price</th>\n",
       "      <th>predictedPrice</th>\n",
       "    </tr>\n",
       "  </thead>\n",
       "  <tbody>\n",
       "    <tr>\n",
       "      <th>0</th>\n",
       "      <td>136</td>\n",
       "      <td>2507</td>\n",
       "      <td>15250.0</td>\n",
       "      <td>14905.920686</td>\n",
       "    </tr>\n",
       "    <tr>\n",
       "      <th>1</th>\n",
       "      <td>90</td>\n",
       "      <td>1874</td>\n",
       "      <td>8916.5</td>\n",
       "      <td>7164.387613</td>\n",
       "    </tr>\n",
       "    <tr>\n",
       "      <th>2</th>\n",
       "      <td>92</td>\n",
       "      <td>3110</td>\n",
       "      <td>8778.0</td>\n",
       "      <td>7500.976007</td>\n",
       "    </tr>\n",
       "    <tr>\n",
       "      <th>3</th>\n",
       "      <td>203</td>\n",
       "      <td>3366</td>\n",
       "      <td>31400.5</td>\n",
       "      <td>26181.631901</td>\n",
       "    </tr>\n",
       "    <tr>\n",
       "      <th>4</th>\n",
       "      <td>92</td>\n",
       "      <td>2015</td>\n",
       "      <td>6488.0</td>\n",
       "      <td>7500.976007</td>\n",
       "    </tr>\n",
       "  </tbody>\n",
       "</table>\n",
       "</div>"
      ],
      "text/plain": [
       "   enginesize  curbweight    price  predictedPrice\n",
       "0         136        2507  15250.0    14905.920686\n",
       "1          90        1874   8916.5     7164.387613\n",
       "2          92        3110   8778.0     7500.976007\n",
       "3         203        3366  31400.5    26181.631901\n",
       "4          92        2015   6488.0     7500.976007"
      ]
     },
     "execution_count": 17,
     "metadata": {},
     "output_type": "execute_result"
    }
   ],
   "source": [
    "# create the DataFrame for the price predictions\n",
    "predicted = pd.DataFrame(y_predicted, columns=['predictedPrice'])\n",
    "\n",
    "# combine the test data and the predicted data into a DataFrame\n",
    "final = predicted.join([x_test.reset_index(drop=True), \n",
    "                        y_test.reset_index(drop=True)])\n",
    "final.head()[['enginesize','curbweight','price','predictedPrice']]"
   ]
  },
  {
   "cell_type": "markdown",
   "metadata": {},
   "source": [
    "## How to plot the residuals of a multiple regression"
   ]
  },
  {
   "cell_type": "code",
   "execution_count": 18,
   "metadata": {},
   "outputs": [
    {
     "data": {
      "text/html": [
       "<div>\n",
       "<style scoped>\n",
       "    .dataframe tbody tr th:only-of-type {\n",
       "        vertical-align: middle;\n",
       "    }\n",
       "\n",
       "    .dataframe tbody tr th {\n",
       "        vertical-align: top;\n",
       "    }\n",
       "\n",
       "    .dataframe thead th {\n",
       "        text-align: right;\n",
       "    }\n",
       "</style>\n",
       "<table border=\"1\" class=\"dataframe\">\n",
       "  <thead>\n",
       "    <tr style=\"text-align: right;\">\n",
       "      <th></th>\n",
       "      <th>predictedPrice</th>\n",
       "      <th>enginesize</th>\n",
       "      <th>curbweight</th>\n",
       "      <th>price</th>\n",
       "      <th>residual</th>\n",
       "    </tr>\n",
       "  </thead>\n",
       "  <tbody>\n",
       "    <tr>\n",
       "      <th>0</th>\n",
       "      <td>14905.920686</td>\n",
       "      <td>136</td>\n",
       "      <td>2507</td>\n",
       "      <td>15250.0</td>\n",
       "      <td>344.079314</td>\n",
       "    </tr>\n",
       "    <tr>\n",
       "      <th>1</th>\n",
       "      <td>7164.387613</td>\n",
       "      <td>90</td>\n",
       "      <td>1874</td>\n",
       "      <td>8916.5</td>\n",
       "      <td>1752.112387</td>\n",
       "    </tr>\n",
       "    <tr>\n",
       "      <th>2</th>\n",
       "      <td>7500.976007</td>\n",
       "      <td>92</td>\n",
       "      <td>3110</td>\n",
       "      <td>8778.0</td>\n",
       "      <td>1277.023993</td>\n",
       "    </tr>\n",
       "    <tr>\n",
       "      <th>3</th>\n",
       "      <td>26181.631901</td>\n",
       "      <td>203</td>\n",
       "      <td>3366</td>\n",
       "      <td>31400.5</td>\n",
       "      <td>5218.868099</td>\n",
       "    </tr>\n",
       "    <tr>\n",
       "      <th>4</th>\n",
       "      <td>7500.976007</td>\n",
       "      <td>92</td>\n",
       "      <td>2015</td>\n",
       "      <td>6488.0</td>\n",
       "      <td>-1012.976007</td>\n",
       "    </tr>\n",
       "  </tbody>\n",
       "</table>\n",
       "</div>"
      ],
      "text/plain": [
       "   predictedPrice  enginesize  curbweight    price     residual\n",
       "0    14905.920686         136        2507  15250.0   344.079314\n",
       "1     7164.387613          90        1874   8916.5  1752.112387\n",
       "2     7500.976007          92        3110   8778.0  1277.023993\n",
       "3    26181.631901         203        3366  31400.5  5218.868099\n",
       "4     7500.976007          92        2015   6488.0 -1012.976007"
      ]
     },
     "execution_count": 18,
     "metadata": {},
     "output_type": "execute_result"
    }
   ],
   "source": [
    "final['residual'] = final.price - final.predictedPrice\n",
    "final.head()"
   ]
  },
  {
   "cell_type": "code",
   "execution_count": 19,
   "metadata": {},
   "outputs": [
    {
     "data": {
      "text/plain": [
       "<AxesSubplot:xlabel='residual', ylabel='Density'>"
      ]
     },
     "execution_count": 19,
     "metadata": {},
     "output_type": "execute_result"
    },
    {
     "data": {
      "image/png": "[encoded data removed]",
      "text/plain": [
       "<Figure size 432x288 with 1 Axes>"
      ]
     },
     "metadata": {
      "needs_background": "light"
     },
     "output_type": "display_data"
    }
   ],
   "source": [
    "sns.kdeplot(data=final, x='residual')"
   ]
  },
  {
   "cell_type": "markdown",
   "metadata": {},
   "source": [
    "## How to identify categorical variables"
   ]
  },
  {
   "cell_type": "code",
   "execution_count": 20,
   "metadata": {},
   "outputs": [
    {
     "data": {
      "text/plain": [
       "car_ID              205\n",
       "symboling             6\n",
       "CarName             147\n",
       "fueltype              2\n",
       "aspiration            2\n",
       "doornumber            2\n",
       "carbody               5\n",
       "drivewheel            3\n",
       "enginelocation        2\n",
       "wheelbase            53\n",
       "carlength            75\n",
       "carwidth             44\n",
       "carheight            49\n",
       "curbweight          171\n",
       "enginetype            7\n",
       "cylindernumber        7\n",
       "enginesize           44\n",
       "fuelsystem            8\n",
       "boreratio            38\n",
       "stroke               37\n",
       "compressionratio     32\n",
       "horsepower           59\n",
       "peakrpm              23\n",
       "citympg              29\n",
       "highwaympg           30\n",
       "price               189\n",
       "dtype: int64"
      ]
     },
     "execution_count": 20,
     "metadata": {},
     "output_type": "execute_result"
    }
   ],
   "source": [
    "carsData.nunique()"
   ]
  },
  {
   "cell_type": "markdown",
   "metadata": {},
   "source": [
    "## How to review categorical variables"
   ]
  },
  {
   "cell_type": "markdown",
   "metadata": {},
   "source": [
    "### Dichotomous variables"
   ]
  },
  {
   "cell_type": "code",
   "execution_count": 21,
   "metadata": {},
   "outputs": [
    {
     "data": {
      "text/plain": [
       "front    202\n",
       "rear       3\n",
       "Name: enginelocation, dtype: int64"
      ]
     },
     "execution_count": 21,
     "metadata": {},
     "output_type": "execute_result"
    }
   ],
   "source": [
    "carsData.enginelocation.value_counts()"
   ]
  },
  {
   "cell_type": "code",
   "execution_count": 22,
   "metadata": {},
   "outputs": [
    {
     "data": {
      "text/plain": [
       "gas       185\n",
       "diesel     20\n",
       "Name: fueltype, dtype: int64"
      ]
     },
     "execution_count": 22,
     "metadata": {},
     "output_type": "execute_result"
    }
   ],
   "source": [
    "carsData.fueltype.value_counts()"
   ]
  },
  {
   "cell_type": "code",
   "execution_count": 23,
   "metadata": {},
   "outputs": [
    {
     "data": {
      "text/plain": [
       "std      168\n",
       "turbo     37\n",
       "Name: aspiration, dtype: int64"
      ]
     },
     "execution_count": 23,
     "metadata": {},
     "output_type": "execute_result"
    }
   ],
   "source": [
    "carsData.aspiration.value_counts()"
   ]
  },
  {
   "cell_type": "code",
   "execution_count": 24,
   "metadata": {},
   "outputs": [
    {
     "data": {
      "text/plain": [
       "four    115\n",
       "two      90\n",
       "Name: doornumber, dtype: int64"
      ]
     },
     "execution_count": 24,
     "metadata": {},
     "output_type": "execute_result"
    }
   ],
   "source": [
    "carsData.doornumber.value_counts()"
   ]
  },
  {
   "cell_type": "markdown",
   "metadata": {},
   "source": [
    "### Nominal variables"
   ]
  },
  {
   "cell_type": "code",
   "execution_count": 25,
   "metadata": {},
   "outputs": [
    {
     "data": {
      "text/plain": [
       "mpfi    94\n",
       "2bbl    66\n",
       "idi     20\n",
       "1bbl    11\n",
       "spdi     9\n",
       "4bbl     3\n",
       "mfi      1\n",
       "spfi     1\n",
       "Name: fuelsystem, dtype: int64"
      ]
     },
     "execution_count": 25,
     "metadata": {},
     "output_type": "execute_result"
    }
   ],
   "source": [
    "carsData.fuelsystem.value_counts()"
   ]
  },
  {
   "cell_type": "code",
   "execution_count": 26,
   "metadata": {},
   "outputs": [
    {
     "data": {
      "text/plain": [
       "sedan          96\n",
       "hatchback      70\n",
       "wagon          25\n",
       "hardtop         8\n",
       "convertible     6\n",
       "Name: carbody, dtype: int64"
      ]
     },
     "execution_count": 26,
     "metadata": {},
     "output_type": "execute_result"
    }
   ],
   "source": [
    "carsData.carbody.value_counts()"
   ]
  },
  {
   "cell_type": "code",
   "execution_count": 27,
   "metadata": {},
   "outputs": [
    {
     "data": {
      "text/plain": [
       "fwd    120\n",
       "rwd     76\n",
       "4wd      9\n",
       "Name: drivewheel, dtype: int64"
      ]
     },
     "execution_count": 27,
     "metadata": {},
     "output_type": "execute_result"
    }
   ],
   "source": [
    "carsData.drivewheel.value_counts()"
   ]
  },
  {
   "cell_type": "code",
   "execution_count": 28,
   "metadata": {},
   "outputs": [
    {
     "data": {
      "text/plain": [
       "ohc      148\n",
       "ohcf      15\n",
       "ohcv      13\n",
       "dohc      12\n",
       "l         12\n",
       "rotor      4\n",
       "dohcv      1\n",
       "Name: enginetype, dtype: int64"
      ]
     },
     "execution_count": 28,
     "metadata": {},
     "output_type": "execute_result"
    }
   ],
   "source": [
    "carsData.enginetype.value_counts()"
   ]
  },
  {
   "cell_type": "code",
   "execution_count": 29,
   "metadata": {},
   "outputs": [
    {
     "data": {
      "text/plain": [
       "four      159\n",
       "six        24\n",
       "five       11\n",
       "eight       5\n",
       "two         4\n",
       "three       1\n",
       "twelve      1\n",
       "Name: cylindernumber, dtype: int64"
      ]
     },
     "execution_count": 29,
     "metadata": {},
     "output_type": "execute_result"
    }
   ],
   "source": [
    "carsData.cylindernumber.value_counts()"
   ]
  },
  {
   "cell_type": "markdown",
   "metadata": {},
   "source": [
    "## How to create dummy variables"
   ]
  },
  {
   "cell_type": "code",
   "execution_count": 31,
   "metadata": {},
   "outputs": [
    {
     "data": {
      "text/html": [
       "<div>\n",
       "<style scoped>\n",
       "    .dataframe tbody tr th:only-of-type {\n",
       "        vertical-align: middle;\n",
       "    }\n",
       "\n",
       "    .dataframe tbody tr th {\n",
       "        vertical-align: top;\n",
       "    }\n",
       "\n",
       "    .dataframe thead th {\n",
       "        text-align: right;\n",
       "    }\n",
       "</style>\n",
       "<table border=\"1\" class=\"dataframe\">\n",
       "  <thead>\n",
       "    <tr style=\"text-align: right;\">\n",
       "      <th></th>\n",
       "      <th>aspiration_std</th>\n",
       "      <th>aspiration_turbo</th>\n",
       "      <th>doornumber_four</th>\n",
       "      <th>doornumber_two</th>\n",
       "      <th>carbody_convertible</th>\n",
       "      <th>carbody_hardtop</th>\n",
       "      <th>carbody_hatchback</th>\n",
       "      <th>carbody_sedan</th>\n",
       "      <th>carbody_wagon</th>\n",
       "      <th>drivewheel_4wd</th>\n",
       "      <th>drivewheel_fwd</th>\n",
       "      <th>drivewheel_rwd</th>\n",
       "    </tr>\n",
       "  </thead>\n",
       "  <tbody>\n",
       "    <tr>\n",
       "      <th>0</th>\n",
       "      <td>1</td>\n",
       "      <td>0</td>\n",
       "      <td>0</td>\n",
       "      <td>1</td>\n",
       "      <td>1</td>\n",
       "      <td>0</td>\n",
       "      <td>0</td>\n",
       "      <td>0</td>\n",
       "      <td>0</td>\n",
       "      <td>0</td>\n",
       "      <td>0</td>\n",
       "      <td>1</td>\n",
       "    </tr>\n",
       "    <tr>\n",
       "      <th>1</th>\n",
       "      <td>1</td>\n",
       "      <td>0</td>\n",
       "      <td>0</td>\n",
       "      <td>1</td>\n",
       "      <td>1</td>\n",
       "      <td>0</td>\n",
       "      <td>0</td>\n",
       "      <td>0</td>\n",
       "      <td>0</td>\n",
       "      <td>0</td>\n",
       "      <td>0</td>\n",
       "      <td>1</td>\n",
       "    </tr>\n",
       "    <tr>\n",
       "      <th>2</th>\n",
       "      <td>1</td>\n",
       "      <td>0</td>\n",
       "      <td>0</td>\n",
       "      <td>1</td>\n",
       "      <td>0</td>\n",
       "      <td>0</td>\n",
       "      <td>1</td>\n",
       "      <td>0</td>\n",
       "      <td>0</td>\n",
       "      <td>0</td>\n",
       "      <td>0</td>\n",
       "      <td>1</td>\n",
       "    </tr>\n",
       "    <tr>\n",
       "      <th>3</th>\n",
       "      <td>1</td>\n",
       "      <td>0</td>\n",
       "      <td>1</td>\n",
       "      <td>0</td>\n",
       "      <td>0</td>\n",
       "      <td>0</td>\n",
       "      <td>0</td>\n",
       "      <td>1</td>\n",
       "      <td>0</td>\n",
       "      <td>0</td>\n",
       "      <td>1</td>\n",
       "      <td>0</td>\n",
       "    </tr>\n",
       "    <tr>\n",
       "      <th>4</th>\n",
       "      <td>1</td>\n",
       "      <td>0</td>\n",
       "      <td>1</td>\n",
       "      <td>0</td>\n",
       "      <td>0</td>\n",
       "      <td>0</td>\n",
       "      <td>0</td>\n",
       "      <td>1</td>\n",
       "      <td>0</td>\n",
       "      <td>1</td>\n",
       "      <td>0</td>\n",
       "      <td>0</td>\n",
       "    </tr>\n",
       "  </tbody>\n",
       "</table>\n",
       "</div>"
      ],
      "text/plain": [
       "   aspiration_std  aspiration_turbo  doornumber_four  doornumber_two  \\\n",
       "0               1                 0                0               1   \n",
       "1               1                 0                0               1   \n",
       "2               1                 0                0               1   \n",
       "3               1                 0                1               0   \n",
       "4               1                 0                1               0   \n",
       "\n",
       "   carbody_convertible  carbody_hardtop  carbody_hatchback  carbody_sedan  \\\n",
       "0                    1                0                  0              0   \n",
       "1                    1                0                  0              0   \n",
       "2                    0                0                  1              0   \n",
       "3                    0                0                  0              1   \n",
       "4                    0                0                  0              1   \n",
       "\n",
       "   carbody_wagon  drivewheel_4wd  drivewheel_fwd  drivewheel_rwd  \n",
       "0              0               0               0               1  \n",
       "1              0               0               0               1  \n",
       "2              0               0               0               1  \n",
       "3              0               0               1               0  \n",
       "4              0               1               0               0  "
      ]
     },
     "execution_count": 31,
     "metadata": {},
     "output_type": "execute_result"
    }
   ],
   "source": [
    "catColumns = ['aspiration','doornumber','carbody','drivewheel']\n",
    "dummies = pd.get_dummies(carsData[catColumns])\n",
    "dummies.head()"
   ]
  },
  {
   "cell_type": "code",
   "execution_count": 32,
   "metadata": {},
   "outputs": [
    {
     "name": "stdout",
     "output_type": "stream",
     "text": [
      "<class 'pandas.core.frame.DataFrame'>\n",
      "RangeIndex: 205 entries, 0 to 204\n",
      "Data columns (total 34 columns):\n",
      " #   Column               Non-Null Count  Dtype  \n",
      "---  ------               --------------  -----  \n",
      " 0   car_ID               205 non-null    int64  \n",
      " 1   symboling            205 non-null    int64  \n",
      " 2   CarName              205 non-null    object \n",
      " 3   fueltype             205 non-null    object \n",
      " 4   enginelocation       205 non-null    object \n",
      " 5   wheelbase            205 non-null    float64\n",
      " 6   carlength            205 non-null    float64\n",
      " 7   carwidth             205 non-null    float64\n",
      " 8   carheight            205 non-null    float64\n",
      " 9   curbweight           205 non-null    int64  \n",
      " 10  enginetype           205 non-null    object \n",
      " 11  cylindernumber       205 non-null    object \n",
      " 12  enginesize           205 non-null    int64  \n",
      " 13  fuelsystem           205 non-null    object \n",
      " 14  boreratio            205 non-null    float64\n",
      " 15  stroke               205 non-null    float64\n",
      " 16  compressionratio     205 non-null    float64\n",
      " 17  horsepower           205 non-null    int64  \n",
      " 18  peakrpm              205 non-null    int64  \n",
      " 19  citympg              205 non-null    int64  \n",
      " 20  highwaympg           205 non-null    int64  \n",
      " 21  price                205 non-null    float64\n",
      " 22  aspiration_std       205 non-null    uint8  \n",
      " 23  aspiration_turbo     205 non-null    uint8  \n",
      " 24  doornumber_four      205 non-null    uint8  \n",
      " 25  doornumber_two       205 non-null    uint8  \n",
      " 26  carbody_convertible  205 non-null    uint8  \n",
      " 27  carbody_hardtop      205 non-null    uint8  \n",
      " 28  carbody_hatchback    205 non-null    uint8  \n",
      " 29  carbody_sedan        205 non-null    uint8  \n",
      " 30  carbody_wagon        205 non-null    uint8  \n",
      " 31  drivewheel_4wd       205 non-null    uint8  \n",
      " 32  drivewheel_fwd       205 non-null    uint8  \n",
      " 33  drivewheel_rwd       205 non-null    uint8  \n",
      "dtypes: float64(8), int64(8), object(6), uint8(12)\n",
      "memory usage: 37.8+ KB\n"
     ]
    }
   ],
   "source": [
    "carsDummies = carsData.drop(columns=catColumns)\n",
    "carsDummies = carsDummies.join(dummies)\n",
    "carsDummies.info()"
   ]
  },
  {
   "cell_type": "code",
   "execution_count": 34,
   "metadata": {},
   "outputs": [
    {
     "data": {
      "text/html": [
       "<div>\n",
       "<style scoped>\n",
       "    .dataframe tbody tr th:only-of-type {\n",
       "        vertical-align: middle;\n",
       "    }\n",
       "\n",
       "    .dataframe tbody tr th {\n",
       "        vertical-align: top;\n",
       "    }\n",
       "\n",
       "    .dataframe thead th {\n",
       "        text-align: right;\n",
       "    }\n",
       "</style>\n",
       "<table border=\"1\" class=\"dataframe\">\n",
       "  <thead>\n",
       "    <tr style=\"text-align: right;\">\n",
       "      <th></th>\n",
       "      <th>car_ID</th>\n",
       "      <th>symboling</th>\n",
       "      <th>wheelbase</th>\n",
       "      <th>carlength</th>\n",
       "      <th>carwidth</th>\n",
       "      <th>carheight</th>\n",
       "      <th>curbweight</th>\n",
       "      <th>enginesize</th>\n",
       "      <th>boreratio</th>\n",
       "      <th>stroke</th>\n",
       "      <th>compressionratio</th>\n",
       "      <th>horsepower</th>\n",
       "      <th>peakrpm</th>\n",
       "      <th>citympg</th>\n",
       "      <th>highwaympg</th>\n",
       "      <th>price</th>\n",
       "    </tr>\n",
       "  </thead>\n",
       "  <tbody>\n",
       "    <tr>\n",
       "      <th>count</th>\n",
       "      <td>205.000000</td>\n",
       "      <td>205.000000</td>\n",
       "      <td>205.000000</td>\n",
       "      <td>205.000000</td>\n",
       "      <td>205.000000</td>\n",
       "      <td>205.000000</td>\n",
       "      <td>205.000000</td>\n",
       "      <td>205.000000</td>\n",
       "      <td>205.000000</td>\n",
       "      <td>205.000000</td>\n",
       "      <td>205.000000</td>\n",
       "      <td>205.000000</td>\n",
       "      <td>205.000000</td>\n",
       "      <td>205.000000</td>\n",
       "      <td>205.000000</td>\n",
       "      <td>205.000000</td>\n",
       "    </tr>\n",
       "    <tr>\n",
       "      <th>mean</th>\n",
       "      <td>103.000000</td>\n",
       "      <td>0.834146</td>\n",
       "      <td>98.756585</td>\n",
       "      <td>174.049268</td>\n",
       "      <td>65.907805</td>\n",
       "      <td>53.724878</td>\n",
       "      <td>2555.565854</td>\n",
       "      <td>126.907317</td>\n",
       "      <td>3.329756</td>\n",
       "      <td>3.255415</td>\n",
       "      <td>10.142537</td>\n",
       "      <td>104.117073</td>\n",
       "      <td>5125.121951</td>\n",
       "      <td>25.219512</td>\n",
       "      <td>30.751220</td>\n",
       "      <td>13276.710571</td>\n",
       "    </tr>\n",
       "    <tr>\n",
       "      <th>std</th>\n",
       "      <td>59.322565</td>\n",
       "      <td>1.245307</td>\n",
       "      <td>6.021776</td>\n",
       "      <td>12.337289</td>\n",
       "      <td>2.145204</td>\n",
       "      <td>2.443522</td>\n",
       "      <td>520.680204</td>\n",
       "      <td>41.642693</td>\n",
       "      <td>0.270844</td>\n",
       "      <td>0.313597</td>\n",
       "      <td>3.972040</td>\n",
       "      <td>39.544167</td>\n",
       "      <td>476.985643</td>\n",
       "      <td>6.542142</td>\n",
       "      <td>6.886443</td>\n",
       "      <td>7988.852332</td>\n",
       "    </tr>\n",
       "    <tr>\n",
       "      <th>min</th>\n",
       "      <td>1.000000</td>\n",
       "      <td>-2.000000</td>\n",
       "      <td>86.600000</td>\n",
       "      <td>141.100000</td>\n",
       "      <td>60.300000</td>\n",
       "      <td>47.800000</td>\n",
       "      <td>1488.000000</td>\n",
       "      <td>61.000000</td>\n",
       "      <td>2.540000</td>\n",
       "      <td>2.070000</td>\n",
       "      <td>7.000000</td>\n",
       "      <td>48.000000</td>\n",
       "      <td>4150.000000</td>\n",
       "      <td>13.000000</td>\n",
       "      <td>16.000000</td>\n",
       "      <td>5118.000000</td>\n",
       "    </tr>\n",
       "    <tr>\n",
       "      <th>25%</th>\n",
       "      <td>52.000000</td>\n",
       "      <td>0.000000</td>\n",
       "      <td>94.500000</td>\n",
       "      <td>166.300000</td>\n",
       "      <td>64.100000</td>\n",
       "      <td>52.000000</td>\n",
       "      <td>2145.000000</td>\n",
       "      <td>97.000000</td>\n",
       "      <td>3.150000</td>\n",
       "      <td>3.110000</td>\n",
       "      <td>8.600000</td>\n",
       "      <td>70.000000</td>\n",
       "      <td>4800.000000</td>\n",
       "      <td>19.000000</td>\n",
       "      <td>25.000000</td>\n",
       "      <td>7788.000000</td>\n",
       "    </tr>\n",
       "    <tr>\n",
       "      <th>50%</th>\n",
       "      <td>103.000000</td>\n",
       "      <td>1.000000</td>\n",
       "      <td>97.000000</td>\n",
       "      <td>173.200000</td>\n",
       "      <td>65.500000</td>\n",
       "      <td>54.100000</td>\n",
       "      <td>2414.000000</td>\n",
       "      <td>120.000000</td>\n",
       "      <td>3.310000</td>\n",
       "      <td>3.290000</td>\n",
       "      <td>9.000000</td>\n",
       "      <td>95.000000</td>\n",
       "      <td>5200.000000</td>\n",
       "      <td>24.000000</td>\n",
       "      <td>30.000000</td>\n",
       "      <td>10295.000000</td>\n",
       "    </tr>\n",
       "    <tr>\n",
       "      <th>75%</th>\n",
       "      <td>154.000000</td>\n",
       "      <td>2.000000</td>\n",
       "      <td>102.400000</td>\n",
       "      <td>183.100000</td>\n",
       "      <td>66.900000</td>\n",
       "      <td>55.500000</td>\n",
       "      <td>2935.000000</td>\n",
       "      <td>141.000000</td>\n",
       "      <td>3.580000</td>\n",
       "      <td>3.410000</td>\n",
       "      <td>9.400000</td>\n",
       "      <td>116.000000</td>\n",
       "      <td>5500.000000</td>\n",
       "      <td>30.000000</td>\n",
       "      <td>34.000000</td>\n",
       "      <td>16503.000000</td>\n",
       "    </tr>\n",
       "    <tr>\n",
       "      <th>max</th>\n",
       "      <td>205.000000</td>\n",
       "      <td>3.000000</td>\n",
       "      <td>120.900000</td>\n",
       "      <td>208.100000</td>\n",
       "      <td>72.300000</td>\n",
       "      <td>59.800000</td>\n",
       "      <td>4066.000000</td>\n",
       "      <td>326.000000</td>\n",
       "      <td>3.940000</td>\n",
       "      <td>4.170000</td>\n",
       "      <td>23.000000</td>\n",
       "      <td>288.000000</td>\n",
       "      <td>6600.000000</td>\n",
       "      <td>49.000000</td>\n",
       "      <td>54.000000</td>\n",
       "      <td>45400.000000</td>\n",
       "    </tr>\n",
       "  </tbody>\n",
       "</table>\n",
       "</div>"
      ],
      "text/plain": [
       "           car_ID   symboling   wheelbase   carlength    carwidth   carheight  \\\n",
       "count  205.000000  205.000000  205.000000  205.000000  205.000000  205.000000   \n",
       "mean   103.000000    0.834146   98.756585  174.049268   65.907805   53.724878   \n",
       "std     59.322565    1.245307    6.021776   12.337289    2.145204    2.443522   \n",
       "min      1.000000   -2.000000   86.600000  141.100000   60.300000   47.800000   \n",
       "25%     52.000000    0.000000   94.500000  166.300000   64.100000   52.000000   \n",
       "50%    103.000000    1.000000   97.000000  173.200000   65.500000   54.100000   \n",
       "75%    154.000000    2.000000  102.400000  183.100000   66.900000   55.500000   \n",
       "max    205.000000    3.000000  120.900000  208.100000   72.300000   59.800000   \n",
       "\n",
       "        curbweight  enginesize   boreratio      stroke  compressionratio  \\\n",
       "count   205.000000  205.000000  205.000000  205.000000        205.000000   \n",
       "mean   2555.565854  126.907317    3.329756    3.255415         10.142537   \n",
       "std     520.680204   41.642693    0.270844    0.313597          3.972040   \n",
       "min    1488.000000   61.000000    2.540000    2.070000          7.000000   \n",
       "25%    2145.000000   97.000000    3.150000    3.110000          8.600000   \n",
       "50%    2414.000000  120.000000    3.310000    3.290000          9.000000   \n",
       "75%    2935.000000  141.000000    3.580000    3.410000          9.400000   \n",
       "max    4066.000000  326.000000    3.940000    4.170000         23.000000   \n",
       "\n",
       "       horsepower      peakrpm     citympg  highwaympg         price  \n",
       "count  205.000000   205.000000  205.000000  205.000000    205.000000  \n",
       "mean   104.117073  5125.121951   25.219512   30.751220  13276.710571  \n",
       "std     39.544167   476.985643    6.542142    6.886443   7988.852332  \n",
       "min     48.000000  4150.000000   13.000000   16.000000   5118.000000  \n",
       "25%     70.000000  4800.000000   19.000000   25.000000   7788.000000  \n",
       "50%     95.000000  5200.000000   24.000000   30.000000  10295.000000  \n",
       "75%    116.000000  5500.000000   30.000000   34.000000  16503.000000  \n",
       "max    288.000000  6600.000000   49.000000   54.000000  45400.000000  "
      ]
     },
     "execution_count": 34,
     "metadata": {},
     "output_type": "execute_result"
    }
   ],
   "source": [
    "carsData.describe()"
   ]
  },
  {
   "cell_type": "markdown",
   "metadata": {},
   "source": [
    "## How to rescale the data and check the correlations"
   ]
  },
  {
   "cell_type": "code",
   "execution_count": 35,
   "metadata": {},
   "outputs": [
    {
     "data": {
      "text/html": [
       "<div>\n",
       "<style scoped>\n",
       "    .dataframe tbody tr th:only-of-type {\n",
       "        vertical-align: middle;\n",
       "    }\n",
       "\n",
       "    .dataframe tbody tr th {\n",
       "        vertical-align: top;\n",
       "    }\n",
       "\n",
       "    .dataframe thead th {\n",
       "        text-align: right;\n",
       "    }\n",
       "</style>\n",
       "<table border=\"1\" class=\"dataframe\">\n",
       "  <thead>\n",
       "    <tr style=\"text-align: right;\">\n",
       "      <th></th>\n",
       "      <th>car_ID</th>\n",
       "      <th>symboling</th>\n",
       "      <th>wheelbase</th>\n",
       "      <th>carlength</th>\n",
       "      <th>carwidth</th>\n",
       "      <th>carheight</th>\n",
       "      <th>curbweight</th>\n",
       "      <th>enginesize</th>\n",
       "      <th>boreratio</th>\n",
       "      <th>stroke</th>\n",
       "      <th>...</th>\n",
       "      <th>doornumber_four</th>\n",
       "      <th>doornumber_two</th>\n",
       "      <th>carbody_convertible</th>\n",
       "      <th>carbody_hardtop</th>\n",
       "      <th>carbody_hatchback</th>\n",
       "      <th>carbody_sedan</th>\n",
       "      <th>carbody_wagon</th>\n",
       "      <th>drivewheel_4wd</th>\n",
       "      <th>drivewheel_fwd</th>\n",
       "      <th>drivewheel_rwd</th>\n",
       "    </tr>\n",
       "  </thead>\n",
       "  <tbody>\n",
       "    <tr>\n",
       "      <th>count</th>\n",
       "      <td>205.000000</td>\n",
       "      <td>205.000000</td>\n",
       "      <td>2.050000e+02</td>\n",
       "      <td>2.050000e+02</td>\n",
       "      <td>2.050000e+02</td>\n",
       "      <td>2.050000e+02</td>\n",
       "      <td>2.050000e+02</td>\n",
       "      <td>2.050000e+02</td>\n",
       "      <td>2.050000e+02</td>\n",
       "      <td>2.050000e+02</td>\n",
       "      <td>...</td>\n",
       "      <td>205.000000</td>\n",
       "      <td>205.000000</td>\n",
       "      <td>205.000000</td>\n",
       "      <td>205.000000</td>\n",
       "      <td>205.000000</td>\n",
       "      <td>205.000000</td>\n",
       "      <td>205.000000</td>\n",
       "      <td>205.000000</td>\n",
       "      <td>205.000000</td>\n",
       "      <td>205.000000</td>\n",
       "    </tr>\n",
       "    <tr>\n",
       "      <th>mean</th>\n",
       "      <td>103.000000</td>\n",
       "      <td>0.834146</td>\n",
       "      <td>-1.291108e-15</td>\n",
       "      <td>3.656696e-15</td>\n",
       "      <td>1.089643e-15</td>\n",
       "      <td>-5.372396e-16</td>\n",
       "      <td>1.126470e-16</td>\n",
       "      <td>3.466062e-17</td>\n",
       "      <td>2.252940e-15</td>\n",
       "      <td>2.062307e-15</td>\n",
       "      <td>...</td>\n",
       "      <td>0.560976</td>\n",
       "      <td>0.439024</td>\n",
       "      <td>0.029268</td>\n",
       "      <td>0.039024</td>\n",
       "      <td>0.341463</td>\n",
       "      <td>0.468293</td>\n",
       "      <td>0.121951</td>\n",
       "      <td>0.043902</td>\n",
       "      <td>0.585366</td>\n",
       "      <td>0.370732</td>\n",
       "    </tr>\n",
       "    <tr>\n",
       "      <th>std</th>\n",
       "      <td>59.322565</td>\n",
       "      <td>1.245307</td>\n",
       "      <td>1.002448e+00</td>\n",
       "      <td>1.002448e+00</td>\n",
       "      <td>1.002448e+00</td>\n",
       "      <td>1.002448e+00</td>\n",
       "      <td>1.002448e+00</td>\n",
       "      <td>1.002448e+00</td>\n",
       "      <td>1.002448e+00</td>\n",
       "      <td>1.002448e+00</td>\n",
       "      <td>...</td>\n",
       "      <td>0.497483</td>\n",
       "      <td>0.497483</td>\n",
       "      <td>0.168970</td>\n",
       "      <td>0.194127</td>\n",
       "      <td>0.475361</td>\n",
       "      <td>0.500215</td>\n",
       "      <td>0.328031</td>\n",
       "      <td>0.205380</td>\n",
       "      <td>0.493865</td>\n",
       "      <td>0.484183</td>\n",
       "    </tr>\n",
       "    <tr>\n",
       "      <th>min</th>\n",
       "      <td>1.000000</td>\n",
       "      <td>-2.000000</td>\n",
       "      <td>-2.023713e+00</td>\n",
       "      <td>-2.677244e+00</td>\n",
       "      <td>-2.620512e+00</td>\n",
       "      <td>-2.430664e+00</td>\n",
       "      <td>-2.055348e+00</td>\n",
       "      <td>-1.586561e+00</td>\n",
       "      <td>-2.923049e+00</td>\n",
       "      <td>-3.789311e+00</td>\n",
       "      <td>...</td>\n",
       "      <td>0.000000</td>\n",
       "      <td>0.000000</td>\n",
       "      <td>0.000000</td>\n",
       "      <td>0.000000</td>\n",
       "      <td>0.000000</td>\n",
       "      <td>0.000000</td>\n",
       "      <td>0.000000</td>\n",
       "      <td>0.000000</td>\n",
       "      <td>0.000000</td>\n",
       "      <td>0.000000</td>\n",
       "    </tr>\n",
       "    <tr>\n",
       "      <th>25%</th>\n",
       "      <td>52.000000</td>\n",
       "      <td>0.000000</td>\n",
       "      <td>-7.085959e-01</td>\n",
       "      <td>-6.296552e-01</td>\n",
       "      <td>-8.447824e-01</td>\n",
       "      <td>-7.076263e-01</td>\n",
       "      <td>-7.904486e-01</td>\n",
       "      <td>-7.199469e-01</td>\n",
       "      <td>-6.653141e-01</td>\n",
       "      <td>-4.648342e-01</td>\n",
       "      <td>...</td>\n",
       "      <td>0.000000</td>\n",
       "      <td>0.000000</td>\n",
       "      <td>0.000000</td>\n",
       "      <td>0.000000</td>\n",
       "      <td>0.000000</td>\n",
       "      <td>0.000000</td>\n",
       "      <td>0.000000</td>\n",
       "      <td>0.000000</td>\n",
       "      <td>0.000000</td>\n",
       "      <td>0.000000</td>\n",
       "    </tr>\n",
       "    <tr>\n",
       "      <th>50%</th>\n",
       "      <td>103.000000</td>\n",
       "      <td>1.000000</td>\n",
       "      <td>-2.924196e-01</td>\n",
       "      <td>-6.900603e-02</td>\n",
       "      <td>-1.905661e-01</td>\n",
       "      <td>1.538927e-01</td>\n",
       "      <td>-2.725519e-01</td>\n",
       "      <td>-1.662771e-01</td>\n",
       "      <td>-7.312136e-02</td>\n",
       "      <td>1.105560e-01</td>\n",
       "      <td>...</td>\n",
       "      <td>1.000000</td>\n",
       "      <td>0.000000</td>\n",
       "      <td>0.000000</td>\n",
       "      <td>0.000000</td>\n",
       "      <td>0.000000</td>\n",
       "      <td>0.000000</td>\n",
       "      <td>0.000000</td>\n",
       "      <td>0.000000</td>\n",
       "      <td>1.000000</td>\n",
       "      <td>0.000000</td>\n",
       "    </tr>\n",
       "    <tr>\n",
       "      <th>75%</th>\n",
       "      <td>154.000000</td>\n",
       "      <td>2.000000</td>\n",
       "      <td>6.065210e-01</td>\n",
       "      <td>7.354037e-01</td>\n",
       "      <td>4.636501e-01</td>\n",
       "      <td>7.282388e-01</td>\n",
       "      <td>7.305117e-01</td>\n",
       "      <td>3.392475e-01</td>\n",
       "      <td>9.262039e-01</td>\n",
       "      <td>4.941494e-01</td>\n",
       "      <td>...</td>\n",
       "      <td>1.000000</td>\n",
       "      <td>1.000000</td>\n",
       "      <td>0.000000</td>\n",
       "      <td>0.000000</td>\n",
       "      <td>1.000000</td>\n",
       "      <td>1.000000</td>\n",
       "      <td>0.000000</td>\n",
       "      <td>0.000000</td>\n",
       "      <td>1.000000</td>\n",
       "      <td>1.000000</td>\n",
       "    </tr>\n",
       "    <tr>\n",
       "      <th>max</th>\n",
       "      <td>205.000000</td>\n",
       "      <td>3.000000</td>\n",
       "      <td>3.686225e+00</td>\n",
       "      <td>2.766741e+00</td>\n",
       "      <td>2.987056e+00</td>\n",
       "      <td>2.492302e+00</td>\n",
       "      <td>2.907988e+00</td>\n",
       "      <td>4.792679e+00</td>\n",
       "      <td>2.258638e+00</td>\n",
       "      <td>2.923575e+00</td>\n",
       "      <td>...</td>\n",
       "      <td>1.000000</td>\n",
       "      <td>1.000000</td>\n",
       "      <td>1.000000</td>\n",
       "      <td>1.000000</td>\n",
       "      <td>1.000000</td>\n",
       "      <td>1.000000</td>\n",
       "      <td>1.000000</td>\n",
       "      <td>1.000000</td>\n",
       "      <td>1.000000</td>\n",
       "      <td>1.000000</td>\n",
       "    </tr>\n",
       "  </tbody>\n",
       "</table>\n",
       "<p>8 rows × 28 columns</p>\n",
       "</div>"
      ],
      "text/plain": [
       "           car_ID   symboling     wheelbase     carlength      carwidth  \\\n",
       "count  205.000000  205.000000  2.050000e+02  2.050000e+02  2.050000e+02   \n",
       "mean   103.000000    0.834146 -1.291108e-15  3.656696e-15  1.089643e-15   \n",
       "std     59.322565    1.245307  1.002448e+00  1.002448e+00  1.002448e+00   \n",
       "min      1.000000   -2.000000 -2.023713e+00 -2.677244e+00 -2.620512e+00   \n",
       "25%     52.000000    0.000000 -7.085959e-01 -6.296552e-01 -8.447824e-01   \n",
       "50%    103.000000    1.000000 -2.924196e-01 -6.900603e-02 -1.905661e-01   \n",
       "75%    154.000000    2.000000  6.065210e-01  7.354037e-01  4.636501e-01   \n",
       "max    205.000000    3.000000  3.686225e+00  2.766741e+00  2.987056e+00   \n",
       "\n",
       "          carheight    curbweight    enginesize     boreratio        stroke  \\\n",
       "count  2.050000e+02  2.050000e+02  2.050000e+02  2.050000e+02  2.050000e+02   \n",
       "mean  -5.372396e-16  1.126470e-16  3.466062e-17  2.252940e-15  2.062307e-15   \n",
       "std    1.002448e+00  1.002448e+00  1.002448e+00  1.002448e+00  1.002448e+00   \n",
       "min   -2.430664e+00 -2.055348e+00 -1.586561e+00 -2.923049e+00 -3.789311e+00   \n",
       "25%   -7.076263e-01 -7.904486e-01 -7.199469e-01 -6.653141e-01 -4.648342e-01   \n",
       "50%    1.538927e-01 -2.725519e-01 -1.662771e-01 -7.312136e-02  1.105560e-01   \n",
       "75%    7.282388e-01  7.305117e-01  3.392475e-01  9.262039e-01  4.941494e-01   \n",
       "max    2.492302e+00  2.907988e+00  4.792679e+00  2.258638e+00  2.923575e+00   \n",
       "\n",
       "       ...  doornumber_four  doornumber_two  carbody_convertible  \\\n",
       "count  ...       205.000000      205.000000           205.000000   \n",
       "mean   ...         0.560976        0.439024             0.029268   \n",
       "std    ...         0.497483        0.497483             0.168970   \n",
       "min    ...         0.000000        0.000000             0.000000   \n",
       "25%    ...         0.000000        0.000000             0.000000   \n",
       "50%    ...         1.000000        0.000000             0.000000   \n",
       "75%    ...         1.000000        1.000000             0.000000   \n",
       "max    ...         1.000000        1.000000             1.000000   \n",
       "\n",
       "       carbody_hardtop  carbody_hatchback  carbody_sedan  carbody_wagon  \\\n",
       "count       205.000000         205.000000     205.000000     205.000000   \n",
       "mean          0.039024           0.341463       0.468293       0.121951   \n",
       "std           0.194127           0.475361       0.500215       0.328031   \n",
       "min           0.000000           0.000000       0.000000       0.000000   \n",
       "25%           0.000000           0.000000       0.000000       0.000000   \n",
       "50%           0.000000           0.000000       0.000000       0.000000   \n",
       "75%           0.000000           1.000000       1.000000       0.000000   \n",
       "max           1.000000           1.000000       1.000000       1.000000   \n",
       "\n",
       "       drivewheel_4wd  drivewheel_fwd  drivewheel_rwd  \n",
       "count      205.000000      205.000000      205.000000  \n",
       "mean         0.043902        0.585366        0.370732  \n",
       "std          0.205380        0.493865        0.484183  \n",
       "min          0.000000        0.000000        0.000000  \n",
       "25%          0.000000        0.000000        0.000000  \n",
       "50%          0.000000        1.000000        0.000000  \n",
       "75%          0.000000        1.000000        1.000000  \n",
       "max          1.000000        1.000000        1.000000  \n",
       "\n",
       "[8 rows x 28 columns]"
      ]
     },
     "execution_count": 35,
     "metadata": {},
     "output_type": "execute_result"
    }
   ],
   "source": [
    "from sklearn.preprocessing import StandardScaler\n",
    "\n",
    "scaler = StandardScaler()\n",
    "numCols = ['wheelbase','carlength','carwidth','carheight','curbweight',\n",
    "           'enginesize','boreratio','stroke','compressionratio','horsepower',\n",
    "           'peakrpm','citympg','highwaympg']\n",
    "carsDummies[numCols] = scaler.fit_transform(carsDummies[numCols])\n",
    "carsDummies.describe()"
   ]
  },
  {
   "cell_type": "code",
   "execution_count": 36,
   "metadata": {},
   "outputs": [
    {
     "data": {
      "text/html": [
       "<div>\n",
       "<style scoped>\n",
       "    .dataframe tbody tr th:only-of-type {\n",
       "        vertical-align: middle;\n",
       "    }\n",
       "\n",
       "    .dataframe tbody tr th {\n",
       "        vertical-align: top;\n",
       "    }\n",
       "\n",
       "    .dataframe thead th {\n",
       "        text-align: right;\n",
       "    }\n",
       "</style>\n",
       "<table border=\"1\" class=\"dataframe\">\n",
       "  <thead>\n",
       "    <tr style=\"text-align: right;\">\n",
       "      <th></th>\n",
       "      <th>price</th>\n",
       "    </tr>\n",
       "  </thead>\n",
       "  <tbody>\n",
       "    <tr>\n",
       "      <th>price</th>\n",
       "      <td>1.000000</td>\n",
       "    </tr>\n",
       "    <tr>\n",
       "      <th>enginesize</th>\n",
       "      <td>0.874145</td>\n",
       "    </tr>\n",
       "    <tr>\n",
       "      <th>curbweight</th>\n",
       "      <td>0.835305</td>\n",
       "    </tr>\n",
       "    <tr>\n",
       "      <th>horsepower</th>\n",
       "      <td>0.808139</td>\n",
       "    </tr>\n",
       "    <tr>\n",
       "      <th>carwidth</th>\n",
       "      <td>0.759325</td>\n",
       "    </tr>\n",
       "    <tr>\n",
       "      <th>carlength</th>\n",
       "      <td>0.682920</td>\n",
       "    </tr>\n",
       "    <tr>\n",
       "      <th>drivewheel_rwd</th>\n",
       "      <td>0.638957</td>\n",
       "    </tr>\n",
       "    <tr>\n",
       "      <th>wheelbase</th>\n",
       "      <td>0.577816</td>\n",
       "    </tr>\n",
       "    <tr>\n",
       "      <th>boreratio</th>\n",
       "      <td>0.553173</td>\n",
       "    </tr>\n",
       "    <tr>\n",
       "      <th>carbody_hardtop</th>\n",
       "      <td>0.225854</td>\n",
       "    </tr>\n",
       "    <tr>\n",
       "      <th>carbody_convertible</th>\n",
       "      <td>0.187681</td>\n",
       "    </tr>\n",
       "    <tr>\n",
       "      <th>aspiration_turbo</th>\n",
       "      <td>0.177926</td>\n",
       "    </tr>\n",
       "    <tr>\n",
       "      <th>carbody_sedan</th>\n",
       "      <td>0.125716</td>\n",
       "    </tr>\n",
       "    <tr>\n",
       "      <th>carheight</th>\n",
       "      <td>0.119336</td>\n",
       "    </tr>\n",
       "    <tr>\n",
       "      <th>stroke</th>\n",
       "      <td>0.079443</td>\n",
       "    </tr>\n",
       "    <tr>\n",
       "      <th>compressionratio</th>\n",
       "      <td>0.067984</td>\n",
       "    </tr>\n",
       "    <tr>\n",
       "      <th>doornumber_four</th>\n",
       "      <td>0.031835</td>\n",
       "    </tr>\n",
       "    <tr>\n",
       "      <th>doornumber_two</th>\n",
       "      <td>-0.031835</td>\n",
       "    </tr>\n",
       "    <tr>\n",
       "      <th>carbody_wagon</th>\n",
       "      <td>-0.042310</td>\n",
       "    </tr>\n",
       "    <tr>\n",
       "      <th>drivewheel_4wd</th>\n",
       "      <td>-0.058866</td>\n",
       "    </tr>\n",
       "    <tr>\n",
       "      <th>symboling</th>\n",
       "      <td>-0.079978</td>\n",
       "    </tr>\n",
       "    <tr>\n",
       "      <th>peakrpm</th>\n",
       "      <td>-0.085267</td>\n",
       "    </tr>\n",
       "    <tr>\n",
       "      <th>car_ID</th>\n",
       "      <td>-0.109093</td>\n",
       "    </tr>\n",
       "    <tr>\n",
       "      <th>aspiration_std</th>\n",
       "      <td>-0.177926</td>\n",
       "    </tr>\n",
       "    <tr>\n",
       "      <th>carbody_hatchback</th>\n",
       "      <td>-0.262039</td>\n",
       "    </tr>\n",
       "    <tr>\n",
       "      <th>drivewheel_fwd</th>\n",
       "      <td>-0.601950</td>\n",
       "    </tr>\n",
       "    <tr>\n",
       "      <th>citympg</th>\n",
       "      <td>-0.685751</td>\n",
       "    </tr>\n",
       "    <tr>\n",
       "      <th>highwaympg</th>\n",
       "      <td>-0.697599</td>\n",
       "    </tr>\n",
       "  </tbody>\n",
       "</table>\n",
       "</div>"
      ],
      "text/plain": [
       "                        price\n",
       "price                1.000000\n",
       "enginesize           0.874145\n",
       "curbweight           0.835305\n",
       "horsepower           0.808139\n",
       "carwidth             0.759325\n",
       "carlength            0.682920\n",
       "drivewheel_rwd       0.638957\n",
       "wheelbase            0.577816\n",
       "boreratio            0.553173\n",
       "carbody_hardtop      0.225854\n",
       "carbody_convertible  0.187681\n",
       "aspiration_turbo     0.177926\n",
       "carbody_sedan        0.125716\n",
       "carheight            0.119336\n",
       "stroke               0.079443\n",
       "compressionratio     0.067984\n",
       "doornumber_four      0.031835\n",
       "doornumber_two      -0.031835\n",
       "carbody_wagon       -0.042310\n",
       "drivewheel_4wd      -0.058866\n",
       "symboling           -0.079978\n",
       "peakrpm             -0.085267\n",
       "car_ID              -0.109093\n",
       "aspiration_std      -0.177926\n",
       "carbody_hatchback   -0.262039\n",
       "drivewheel_fwd      -0.601950\n",
       "citympg             -0.685751\n",
       "highwaympg          -0.697599"
      ]
     },
     "execution_count": 36,
     "metadata": {},
     "output_type": "execute_result"
    }
   ],
   "source": [
    "carsDummies.corr()[['price']].sort_values(by='price', ascending=False)"
   ]
  },
  {
   "cell_type": "markdown",
   "metadata": {},
   "source": [
    "## How to create a multiple regression that includes dummy variables"
   ]
  },
  {
   "cell_type": "code",
   "execution_count": 37,
   "metadata": {},
   "outputs": [],
   "source": [
    "carsTrain, carsTest = train_test_split(carsDummies, test_size=0.2, \n",
    "    random_state=20)"
   ]
  },
  {
   "cell_type": "code",
   "execution_count": 38,
   "metadata": {},
   "outputs": [
    {
     "data": {
      "text/plain": [
       "0.7523820020019687"
      ]
     },
     "execution_count": 38,
     "metadata": {},
     "output_type": "execute_result"
    }
   ],
   "source": [
    "model = LinearRegression()\n",
    "xCols = ['enginesize','horsepower','carwidth',\n",
    "         'drivewheel_rwd','highwaympg']\n",
    "model.fit(carsTrain[xCols], carsTrain['price'])\n",
    "\n",
    "model.score(carsTest[xCols], carsTest['price'])"
   ]
  },
  {
   "cell_type": "code",
   "execution_count": 39,
   "metadata": {},
   "outputs": [
    {
     "data": {
      "text/plain": [
       "0.8334860355280258"
      ]
     },
     "execution_count": 39,
     "metadata": {},
     "output_type": "execute_result"
    }
   ],
   "source": [
    "model.score(carsTrain[xCols], carsTrain['price'])"
   ]
  },
  {
   "cell_type": "code",
   "execution_count": 40,
   "metadata": {},
   "outputs": [],
   "source": [
    "y_predicted = model.predict(carsTest[xCols])"
   ]
  },
  {
   "cell_type": "code",
   "execution_count": 41,
   "metadata": {},
   "outputs": [
    {
     "data": {
      "text/html": [
       "<div>\n",
       "<style scoped>\n",
       "    .dataframe tbody tr th:only-of-type {\n",
       "        vertical-align: middle;\n",
       "    }\n",
       "\n",
       "    .dataframe tbody tr th {\n",
       "        vertical-align: top;\n",
       "    }\n",
       "\n",
       "    .dataframe thead th {\n",
       "        text-align: right;\n",
       "    }\n",
       "</style>\n",
       "<table border=\"1\" class=\"dataframe\">\n",
       "  <thead>\n",
       "    <tr style=\"text-align: right;\">\n",
       "      <th></th>\n",
       "      <th>enginesize</th>\n",
       "      <th>horsepower</th>\n",
       "      <th>carwidth</th>\n",
       "      <th>drivewheel_rwd</th>\n",
       "      <th>highwaympg</th>\n",
       "      <th>price</th>\n",
       "      <th>predictedPrice</th>\n",
       "    </tr>\n",
       "  </thead>\n",
       "  <tbody>\n",
       "    <tr>\n",
       "      <th>0</th>\n",
       "      <td>0.218885</td>\n",
       "      <td>0.149133</td>\n",
       "      <td>0.183272</td>\n",
       "      <td>0</td>\n",
       "      <td>-0.837195</td>\n",
       "      <td>15250.0</td>\n",
       "      <td>13517.858822</td>\n",
       "    </tr>\n",
       "    <tr>\n",
       "      <th>1</th>\n",
       "      <td>-0.888455</td>\n",
       "      <td>-0.864871</td>\n",
       "      <td>-1.078431</td>\n",
       "      <td>0</td>\n",
       "      <td>1.783034</td>\n",
       "      <td>8916.5</td>\n",
       "      <td>5968.304606</td>\n",
       "    </tr>\n",
       "    <tr>\n",
       "      <th>2</th>\n",
       "      <td>-0.840310</td>\n",
       "      <td>-1.067671</td>\n",
       "      <td>-1.078431</td>\n",
       "      <td>0</td>\n",
       "      <td>0.181783</td>\n",
       "      <td>8778.0</td>\n",
       "      <td>4984.725918</td>\n",
       "    </tr>\n",
       "    <tr>\n",
       "      <th>3</th>\n",
       "      <td>1.831749</td>\n",
       "      <td>4.661448</td>\n",
       "      <td>2.987056</td>\n",
       "      <td>1</td>\n",
       "      <td>-0.400490</td>\n",
       "      <td>31400.5</td>\n",
       "      <td>37778.843127</td>\n",
       "    </tr>\n",
       "    <tr>\n",
       "      <th>4</th>\n",
       "      <td>-0.840310</td>\n",
       "      <td>-1.067671</td>\n",
       "      <td>-1.078431</td>\n",
       "      <td>0</td>\n",
       "      <td>1.055193</td>\n",
       "      <td>6488.0</td>\n",
       "      <td>5347.966676</td>\n",
       "    </tr>\n",
       "  </tbody>\n",
       "</table>\n",
       "</div>"
      ],
      "text/plain": [
       "   enginesize  horsepower  carwidth  drivewheel_rwd  highwaympg    price  \\\n",
       "0    0.218885    0.149133  0.183272               0   -0.837195  15250.0   \n",
       "1   -0.888455   -0.864871 -1.078431               0    1.783034   8916.5   \n",
       "2   -0.840310   -1.067671 -1.078431               0    0.181783   8778.0   \n",
       "3    1.831749    4.661448  2.987056               1   -0.400490  31400.5   \n",
       "4   -0.840310   -1.067671 -1.078431               0    1.055193   6488.0   \n",
       "\n",
       "   predictedPrice  \n",
       "0    13517.858822  \n",
       "1     5968.304606  \n",
       "2     4984.725918  \n",
       "3    37778.843127  \n",
       "4     5347.966676  "
      ]
     },
     "execution_count": 41,
     "metadata": {},
     "output_type": "execute_result"
    }
   ],
   "source": [
    "predicted = pd.DataFrame(y_predicted, columns=['predictedPrice'])\n",
    "\n",
    "final = predicted.join([carsTest[xCols].reset_index(drop=True),\n",
    "                        carsTest['price'].reset_index(drop=True)])\n",
    "\n",
    "final[['enginesize','horsepower','carwidth','drivewheel_rwd',\n",
    "       'highwaympg','price','predictedPrice']].head()"
   ]
  },
  {
   "cell_type": "markdown",
   "metadata": {},
   "source": [
    "## How to select the independent variables"
   ]
  },
  {
   "cell_type": "code",
   "execution_count": 42,
   "metadata": {
    "tags": []
   },
   "outputs": [
    {
     "data": {
      "text/plain": [
       "<AxesSubplot:>"
      ]
     },
     "execution_count": 42,
     "metadata": {},
     "output_type": "execute_result"
    },
    {
     "data": {
      "image/png": "[encoded data removed]",
      "text/plain": [
       "<Figure size 720x720 with 2 Axes>"
      ]
     },
     "metadata": {
      "needs_background": "light"
     },
     "output_type": "display_data"
    }
   ],
   "source": [
    "# use Matplotlib to set the size of the plot\n",
    "import matplotlib.pyplot as plt\n",
    "fig, ax = plt.subplots(figsize=(10,10))\n",
    "\n",
    "# create the heatmap\n",
    "sns.heatmap(carsTrain.corr()[['enginesize','curbweight','horsepower','carwidth',\n",
    "                              'drivewheel_rwd','highwaympg','citympg','boreratio',\n",
    "                              'price']].sort_values(by='price', ascending=False), \n",
    "            cmap='Blues', annot=True)"
   ]
  },
  {
   "cell_type": "markdown",
   "metadata": {},
   "source": [
    "## How to test different combinations of variables"
   ]
  },
  {
   "cell_type": "markdown",
   "metadata": {},
   "source": [
    "### An initial model that's fitted to eight independent variables"
   ]
  },
  {
   "cell_type": "code",
   "execution_count": 43,
   "metadata": {},
   "outputs": [
    {
     "data": {
      "text/plain": [
       "0.739243731429341"
      ]
     },
     "execution_count": 43,
     "metadata": {},
     "output_type": "execute_result"
    }
   ],
   "source": [
    "model = LinearRegression()\n",
    "xCols = ['enginesize','curbweight','horsepower','carwidth', 'carlength',\n",
    "         'drivewheel_rwd','highwaympg','citympg']\n",
    "model.fit(carsTrain[xCols], carsTrain['price'])\n",
    "model.score(carsTest[xCols], carsTest['price'])"
   ]
  },
  {
   "cell_type": "code",
   "execution_count": 44,
   "metadata": {},
   "outputs": [
    {
     "data": {
      "text/plain": [
       "0.8344434015448826"
      ]
     },
     "execution_count": 44,
     "metadata": {},
     "output_type": "execute_result"
    }
   ],
   "source": [
    "model.score(carsTrain[xCols], carsTrain['price'])"
   ]
  },
  {
   "cell_type": "markdown",
   "metadata": {},
   "source": [
    "### The initial model without the citympg column"
   ]
  },
  {
   "cell_type": "code",
   "execution_count": 45,
   "metadata": {},
   "outputs": [
    {
     "data": {
      "text/plain": [
       "0.7430944903647659"
      ]
     },
     "execution_count": 45,
     "metadata": {},
     "output_type": "execute_result"
    }
   ],
   "source": [
    "model = LinearRegression()\n",
    "xCols = ['enginesize','curbweight','horsepower','carwidth','carlength',\n",
    "         'drivewheel_rwd','highwaympg']\n",
    "model.fit(carsTrain[xCols], carsTrain['price'])\n",
    "model.score(carsTest[xCols], carsTest['price'])"
   ]
  },
  {
   "cell_type": "code",
   "execution_count": 46,
   "metadata": {},
   "outputs": [
    {
     "data": {
      "text/plain": [
       "0.8339017954221501"
      ]
     },
     "execution_count": 46,
     "metadata": {},
     "output_type": "execute_result"
    }
   ],
   "source": [
    "model.score(carsTrain[xCols], carsTrain['price'])"
   ]
  },
  {
   "cell_type": "markdown",
   "metadata": {},
   "source": [
    "### A model that's fitted to all the numeric and dummy variables"
   ]
  },
  {
   "cell_type": "code",
   "execution_count": 47,
   "metadata": {
    "tags": []
   },
   "outputs": [
    {
     "data": {
      "text/plain": [
       "0.7741309452324634"
      ]
     },
     "execution_count": 47,
     "metadata": {},
     "output_type": "execute_result"
    }
   ],
   "source": [
    "model = LinearRegression()\n",
    "xCols = carsTrain.corr().drop(columns=['price']).columns.tolist()\n",
    "model.fit(carsTrain[xCols], carsTrain['price'])\n",
    "model.score(carsTest[xCols], carsTest['price'])"
   ]
  },
  {
   "cell_type": "code",
   "execution_count": 48,
   "metadata": {},
   "outputs": [
    {
     "data": {
      "text/plain": [
       "['car_ID',\n",
       " 'symboling',\n",
       " 'wheelbase',\n",
       " 'carlength',\n",
       " 'carwidth',\n",
       " 'carheight',\n",
       " 'curbweight',\n",
       " 'enginesize',\n",
       " 'boreratio',\n",
       " 'stroke',\n",
       " 'compressionratio',\n",
       " 'horsepower',\n",
       " 'peakrpm',\n",
       " 'citympg',\n",
       " 'highwaympg',\n",
       " 'aspiration_std',\n",
       " 'aspiration_turbo',\n",
       " 'doornumber_four',\n",
       " 'doornumber_two',\n",
       " 'carbody_convertible',\n",
       " 'carbody_hardtop',\n",
       " 'carbody_hatchback',\n",
       " 'carbody_sedan',\n",
       " 'carbody_wagon',\n",
       " 'drivewheel_4wd',\n",
       " 'drivewheel_fwd',\n",
       " 'drivewheel_rwd']"
      ]
     },
     "execution_count": 48,
     "metadata": {},
     "output_type": "execute_result"
    }
   ],
   "source": [
    "xCols"
   ]
  },
  {
   "cell_type": "code",
   "execution_count": 49,
   "metadata": {},
   "outputs": [
    {
     "data": {
      "text/plain": [
       "0.893488927713899"
      ]
     },
     "execution_count": 49,
     "metadata": {},
     "output_type": "execute_result"
    }
   ],
   "source": [
    "model.score(carsTrain[xCols], carsTrain['price'])"
   ]
  },
  {
   "cell_type": "markdown",
   "metadata": {},
   "source": [
    "## How to use SciKit learn to select the variables"
   ]
  },
  {
   "cell_type": "code",
   "execution_count": 50,
   "metadata": {},
   "outputs": [],
   "source": [
    "from sklearn.feature_selection import SelectKBest\n",
    "from sklearn.feature_selection import mutual_info_regression"
   ]
  },
  {
   "cell_type": "code",
   "execution_count": 51,
   "metadata": {},
   "outputs": [],
   "source": [
    "carsTrain, carsTest = train_test_split(carsDummies.drop(\n",
    "    columns=['CarName','fueltype','enginelocation','cylindernumber',\n",
    "             'fuelsystem','enginetype']), test_size=0.2, random_state=20)"
   ]
  },
  {
   "cell_type": "code",
   "execution_count": 52,
   "metadata": {},
   "outputs": [
    {
     "data": {
      "text/plain": [
       "SelectKBest(k=20,\n",
       "            score_func=<function mutual_info_regression at 0x0000021B13A4D1F0>)"
      ]
     },
     "execution_count": 52,
     "metadata": {},
     "output_type": "execute_result"
    }
   ],
   "source": [
    "fs = SelectKBest(score_func=mutual_info_regression, k=20)\n",
    "fs.fit(carsTrain.drop(columns=['price']), carsTrain['price'])"
   ]
  },
  {
   "cell_type": "code",
   "execution_count": 53,
   "metadata": {},
   "outputs": [],
   "source": [
    "x_train_fs = fs.transform(carsTrain.drop(columns=['price']))\n",
    "x_test_fs = fs.transform(carsTest.drop(columns=['price']))"
   ]
  },
  {
   "cell_type": "code",
   "execution_count": 54,
   "metadata": {},
   "outputs": [
    {
     "data": {
      "text/plain": [
       "0.7730268917681574"
      ]
     },
     "execution_count": 54,
     "metadata": {},
     "output_type": "execute_result"
    }
   ],
   "source": [
    "model = LinearRegression()\n",
    "model.fit(x_train_fs, carsTrain['price'])\n",
    "model.score(x_test_fs, carsTest['price'])"
   ]
  },
  {
   "cell_type": "code",
   "execution_count": 57,
   "metadata": {},
   "outputs": [
    {
     "data": {
      "text/plain": [
       "0.8826996202377456"
      ]
     },
     "execution_count": 57,
     "metadata": {},
     "output_type": "execute_result"
    }
   ],
   "source": [
    "model.score(x_train_fs, carsTrain['price'])"
   ]
  },
  {
   "cell_type": "code",
   "execution_count": 58,
   "metadata": {},
   "outputs": [
    {
     "data": {
      "text/html": [
       "<div>\n",
       "<style scoped>\n",
       "    .dataframe tbody tr th:only-of-type {\n",
       "        vertical-align: middle;\n",
       "    }\n",
       "\n",
       "    .dataframe tbody tr th {\n",
       "        vertical-align: top;\n",
       "    }\n",
       "\n",
       "    .dataframe thead th {\n",
       "        text-align: right;\n",
       "    }\n",
       "</style>\n",
       "<table border=\"1\" class=\"dataframe\">\n",
       "  <thead>\n",
       "    <tr style=\"text-align: right;\">\n",
       "      <th></th>\n",
       "      <th>feature</th>\n",
       "      <th>importance</th>\n",
       "    </tr>\n",
       "  </thead>\n",
       "  <tbody>\n",
       "    <tr>\n",
       "      <th>6</th>\n",
       "      <td>curbweight</td>\n",
       "      <td>0.902655</td>\n",
       "    </tr>\n",
       "    <tr>\n",
       "      <th>11</th>\n",
       "      <td>horsepower</td>\n",
       "      <td>0.871291</td>\n",
       "    </tr>\n",
       "    <tr>\n",
       "      <th>14</th>\n",
       "      <td>highwaympg</td>\n",
       "      <td>0.868069</td>\n",
       "    </tr>\n",
       "    <tr>\n",
       "      <th>7</th>\n",
       "      <td>enginesize</td>\n",
       "      <td>0.851391</td>\n",
       "    </tr>\n",
       "    <tr>\n",
       "      <th>13</th>\n",
       "      <td>citympg</td>\n",
       "      <td>0.721353</td>\n",
       "    </tr>\n",
       "  </tbody>\n",
       "</table>\n",
       "</div>"
      ],
      "text/plain": [
       "       feature  importance\n",
       "6   curbweight    0.902655\n",
       "11  horsepower    0.871291\n",
       "14  highwaympg    0.868069\n",
       "7   enginesize    0.851391\n",
       "13     citympg    0.721353"
      ]
     },
     "execution_count": 58,
     "metadata": {},
     "output_type": "execute_result"
    }
   ],
   "source": [
    "df1 = pd.DataFrame(carsTrain.drop(columns=['price']).columns, columns=['feature'])\n",
    "df2 = pd.DataFrame(fs.scores_, columns=['importance'])\n",
    "importance = df1.join(df2)\n",
    "importance.sort_values('importance', ascending=False).head()"
   ]
  },
  {
   "cell_type": "markdown",
   "metadata": {},
   "source": [
    "## How to select the right number of variables"
   ]
  },
  {
   "cell_type": "code",
   "execution_count": 59,
   "metadata": {},
   "outputs": [
    {
     "data": {
      "text/plain": [
       "<AxesSubplot:xlabel='numFeatures'>"
      ]
     },
     "execution_count": 59,
     "metadata": {},
     "output_type": "execute_result"
    },
    {
     "data": {
      "image/png": "[encoded data removed]",
      "text/plain": [
       "<Figure size 432x288 with 1 Axes>"
      ]
     },
     "metadata": {
      "needs_background": "light"
     },
     "output_type": "display_data"
    }
   ],
   "source": [
    "model = LinearRegression()\n",
    "testScores = []\n",
    "trainScores = []\n",
    "\n",
    "for i in range(1, len(carsTrain.columns)):\n",
    "    fs = SelectKBest(score_func=mutual_info_regression, k=i)\n",
    "    fs.fit(carsTrain.drop(columns=['price']), carsTrain['price'])\n",
    "\n",
    "    x_train_fs = fs.transform(carsTrain.drop(columns=['price']))\n",
    "    x_test_fs = fs.transform(carsTest.drop(columns=['price']))\n",
    "\n",
    "    model.fit(x_train_fs, carsTrain['price'])\n",
    "    \n",
    "    testScore = model.score(x_test_fs, carsTest['price'])\n",
    "    trainScore = model.score(x_train_fs, carsTrain['price'])\n",
    "    testScores.append(testScore)\n",
    "    trainScores.append(trainScore)\n",
    "    \n",
    "df = pd.DataFrame(data={'testScores':testScores, 'trainScores':trainScores})\n",
    "df.reset_index(inplace=True)\n",
    "df.rename(columns={'index':'numFeatures'}, inplace=True)\n",
    "df.numFeatures = df.numFeatures + 1\n",
    "df.plot(x='numFeatures', y=['testScores','trainScores'])"
   ]
  },
  {
   "cell_type": "code",
   "execution_count": null,
   "metadata": {},
   "outputs": [],
   "source": [
    "# Or, if you only want to plot the gap, you could do it like this...\n",
    "df['gap'] = df['trainScores'] - df['testScores']\n",
    "df.plot(x='numFeatures', y=['gap'])"
   ]
  },
  {
   "cell_type": "code",
   "execution_count": null,
   "metadata": {},
   "outputs": [],
   "source": []
  }
 ],
 "metadata": {
  "kernelspec": {
   "display_name": "Python 3",
   "language": "python",
   "name": "python3"
  },
  "language_info": {
   "codemirror_mode": {
    "name": "ipython",
    "version": 3
   },
   "file_extension": ".py",
   "mimetype": "text/x-python",
   "name": "python",
   "nbconvert_exporter": "python",
   "pygments_lexer": "ipython3",
   "version": "3.8.12"
  }
 },
 "nbformat": 4,
 "nbformat_minor": 4
}
