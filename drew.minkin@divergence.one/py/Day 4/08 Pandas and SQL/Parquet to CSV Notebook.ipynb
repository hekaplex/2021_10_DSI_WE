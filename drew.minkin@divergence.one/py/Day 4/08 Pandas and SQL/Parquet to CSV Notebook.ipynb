{
 "cells": [
  {
   "cell_type": "code",
   "execution_count": 6,
   "metadata": {},
   "outputs": [
    {
     "name": "stdout",
     "output_type": "stream",
     "text": [
      "^C\n"
     ]
    }
   ],
   "source": [
    "!conda install -c conda-forge python-snappy fastparquet snappy"
   ]
  },
  {
   "cell_type": "code",
   "execution_count": 2,
   "metadata": {},
   "outputs": [
    {
     "name": "stdout",
     "output_type": "stream",
     "text": [
      "Collecting package metadata (current_repodata.json): ...working... done\n",
      "Solving environment: ...working... done\n",
      "\n",
      "# All requested packages already installed.\n",
      "\n"
     ]
    }
   ],
   "source": [
    "#be sure to have this notebook in the same folder as your parquet file\n",
    "\n",
    "#this line of code loads the library into the notebook\n",
    "import pandas as pd\n",
    "\n",
    "#this line of code reads the parquet into memory to a Pandas DataFrame \n",
    "df = pd.read_parquet('data.dataset.parquet')\n",
    "\n",
    "#this line code exports the data into a format for Power BI\n",
    "df.to_csv('azureml_export.csv')"
   ]
  },
  {
   "cell_type": "code",
   "execution_count": 3,
   "metadata": {},
   "outputs": [],
   "source": [
    "import pandas as pd\n",
    "df2 = pd.read_csv(\"labtrain1.csv\",index_col=False)"
   ]
  },
  {
   "cell_type": "code",
   "execution_count": 4,
   "metadata": {},
   "outputs": [
    {
     "data": {
      "text/html": [
       "<div>\n",
       "<style scoped>\n",
       "    .dataframe tbody tr th:only-of-type {\n",
       "        vertical-align: middle;\n",
       "    }\n",
       "\n",
       "    .dataframe tbody tr th {\n",
       "        vertical-align: top;\n",
       "    }\n",
       "\n",
       "    .dataframe thead th {\n",
       "        text-align: right;\n",
       "    }\n",
       "</style>\n",
       "<table border=\"1\" class=\"dataframe\">\n",
       "  <thead>\n",
       "    <tr style=\"text-align: right;\">\n",
       "      <th></th>\n",
       "      <th>Row_ID</th>\n",
       "      <th>Calendar_Year</th>\n",
       "      <th>Model_Year</th>\n",
       "      <th>NVVar1</th>\n",
       "      <th>NVVar2</th>\n",
       "      <th>NVVar3</th>\n",
       "      <th>NVVar4</th>\n",
       "      <th>HasLoss</th>\n",
       "    </tr>\n",
       "  </thead>\n",
       "  <tbody>\n",
       "    <tr>\n",
       "      <th>0</th>\n",
       "      <td>2888916</td>\n",
       "      <td>2006</td>\n",
       "      <td>1998</td>\n",
       "      <td>-0.23153</td>\n",
       "      <td>-0.266117</td>\n",
       "      <td>-0.272337</td>\n",
       "      <td>-0.251419</td>\n",
       "      <td>0</td>\n",
       "    </tr>\n",
       "    <tr>\n",
       "      <th>1</th>\n",
       "      <td>5872967</td>\n",
       "      <td>2005</td>\n",
       "      <td>2004</td>\n",
       "      <td>-0.23153</td>\n",
       "      <td>-0.266117</td>\n",
       "      <td>-0.272337</td>\n",
       "      <td>-0.251419</td>\n",
       "      <td>0</td>\n",
       "    </tr>\n",
       "    <tr>\n",
       "      <th>2</th>\n",
       "      <td>3914547</td>\n",
       "      <td>2006</td>\n",
       "      <td>2006</td>\n",
       "      <td>-0.23153</td>\n",
       "      <td>-0.266117</td>\n",
       "      <td>-0.272337</td>\n",
       "      <td>-0.251419</td>\n",
       "      <td>0</td>\n",
       "    </tr>\n",
       "    <tr>\n",
       "      <th>3</th>\n",
       "      <td>6453577</td>\n",
       "      <td>2005</td>\n",
       "      <td>2003</td>\n",
       "      <td>-0.23153</td>\n",
       "      <td>-0.266117</td>\n",
       "      <td>4.209403</td>\n",
       "      <td>-0.251419</td>\n",
       "      <td>0</td>\n",
       "    </tr>\n",
       "    <tr>\n",
       "      <th>4</th>\n",
       "      <td>9329943</td>\n",
       "      <td>2007</td>\n",
       "      <td>2001</td>\n",
       "      <td>-0.23153</td>\n",
       "      <td>-0.266117</td>\n",
       "      <td>-0.272337</td>\n",
       "      <td>-0.251419</td>\n",
       "      <td>0</td>\n",
       "    </tr>\n",
       "    <tr>\n",
       "      <th>5</th>\n",
       "      <td>4783416</td>\n",
       "      <td>2007</td>\n",
       "      <td>2007</td>\n",
       "      <td>3.19779</td>\n",
       "      <td>-0.266117</td>\n",
       "      <td>-0.272337</td>\n",
       "      <td>3.068692</td>\n",
       "      <td>0</td>\n",
       "    </tr>\n",
       "    <tr>\n",
       "      <th>6</th>\n",
       "      <td>124027</td>\n",
       "      <td>2007</td>\n",
       "      <td>2000</td>\n",
       "      <td>-0.23153</td>\n",
       "      <td>-0.266117</td>\n",
       "      <td>-0.272337</td>\n",
       "      <td>-0.251419</td>\n",
       "      <td>0</td>\n",
       "    </tr>\n",
       "    <tr>\n",
       "      <th>7</th>\n",
       "      <td>6245645</td>\n",
       "      <td>2007</td>\n",
       "      <td>2007</td>\n",
       "      <td>-0.23153</td>\n",
       "      <td>-0.266117</td>\n",
       "      <td>2.715490</td>\n",
       "      <td>-0.251419</td>\n",
       "      <td>0</td>\n",
       "    </tr>\n",
       "    <tr>\n",
       "      <th>8</th>\n",
       "      <td>3945544</td>\n",
       "      <td>2006</td>\n",
       "      <td>2004</td>\n",
       "      <td>-0.23153</td>\n",
       "      <td>-0.266117</td>\n",
       "      <td>2.715490</td>\n",
       "      <td>-0.251419</td>\n",
       "      <td>0</td>\n",
       "    </tr>\n",
       "    <tr>\n",
       "      <th>9</th>\n",
       "      <td>11030803</td>\n",
       "      <td>2006</td>\n",
       "      <td>1996</td>\n",
       "      <td>-0.23153</td>\n",
       "      <td>-0.266117</td>\n",
       "      <td>-0.272337</td>\n",
       "      <td>-0.251419</td>\n",
       "      <td>0</td>\n",
       "    </tr>\n",
       "  </tbody>\n",
       "</table>\n",
       "</div>"
      ],
      "text/plain": [
       "     Row_ID  Calendar_Year  Model_Year   NVVar1    NVVar2    NVVar3    NVVar4  \\\n",
       "0   2888916           2006        1998 -0.23153 -0.266117 -0.272337 -0.251419   \n",
       "1   5872967           2005        2004 -0.23153 -0.266117 -0.272337 -0.251419   \n",
       "2   3914547           2006        2006 -0.23153 -0.266117 -0.272337 -0.251419   \n",
       "3   6453577           2005        2003 -0.23153 -0.266117  4.209403 -0.251419   \n",
       "4   9329943           2007        2001 -0.23153 -0.266117 -0.272337 -0.251419   \n",
       "5   4783416           2007        2007  3.19779 -0.266117 -0.272337  3.068692   \n",
       "6    124027           2007        2000 -0.23153 -0.266117 -0.272337 -0.251419   \n",
       "7   6245645           2007        2007 -0.23153 -0.266117  2.715490 -0.251419   \n",
       "8   3945544           2006        2004 -0.23153 -0.266117  2.715490 -0.251419   \n",
       "9  11030803           2006        1996 -0.23153 -0.266117 -0.272337 -0.251419   \n",
       "\n",
       "   HasLoss  \n",
       "0        0  \n",
       "1        0  \n",
       "2        0  \n",
       "3        0  \n",
       "4        0  \n",
       "5        0  \n",
       "6        0  \n",
       "7        0  \n",
       "8        0  \n",
       "9        0  "
      ]
     },
     "execution_count": 4,
     "metadata": {},
     "output_type": "execute_result"
    }
   ],
   "source": [
    "df2.head(10)"
   ]
  },
  {
   "cell_type": "code",
   "execution_count": 7,
   "metadata": {},
   "outputs": [],
   "source": [
    "df2.to_parquet(\"labtrain1.parquet\")"
   ]
  },
  {
   "cell_type": "code",
   "execution_count": null,
   "metadata": {},
   "outputs": [],
   "source": []
  }
 ],
 "metadata": {
  "kernelspec": {
   "display_name": "Python 3",
   "language": "python",
   "name": "python3"
  },
  "language_info": {
   "codemirror_mode": {
    "name": "ipython",
    "version": 3
   },
   "file_extension": ".py",
   "mimetype": "text/x-python",
   "name": "python",
   "nbconvert_exporter": "python",
   "pygments_lexer": "ipython3",
   "version": "3.8.12"
  }
 },
 "nbformat": 4,
 "nbformat_minor": 4
}
