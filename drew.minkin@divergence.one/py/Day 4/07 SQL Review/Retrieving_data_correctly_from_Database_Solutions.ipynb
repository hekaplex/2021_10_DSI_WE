{
  "cells": [
    {
      "metadata": {},
      "cell_type": "markdown",
      "source": "### Task 1: (Connect to the supplied petsDB, and write a function to check if the connection is done)"
    },
    {
      "metadata": {
        "trusted": true
      },
      "cell_type": "code",
      "source": "import sqlite3",
      "execution_count": null,
      "outputs": []
    },
    {
      "metadata": {
        "trusted": true
      },
      "cell_type": "code",
      "source": "conn = sqlite3.connect(\"petsdb\")",
      "execution_count": 2,
      "outputs": []
    },
    {
      "metadata": {
        "trusted": true
      },
      "cell_type": "code",
      "source": "# a tiny function to make sure the connection is successful\ndef is_opened(conn):\n    try:\n        conn.execute(\"SELECT * FROM persons LIMIT 1\")\n        return True\n    except sqlite3.ProgrammingError as e:\n        print(\"Connection closed {}\".format(e))\n        return False",
      "execution_count": 3,
      "outputs": []
    },
    {
      "metadata": {
        "trusted": true
      },
      "cell_type": "code",
      "source": "print(is_opened(conn))",
      "execution_count": 4,
      "outputs": [
        {
          "name": "stdout",
          "output_type": "stream",
          "text": "True\n"
        }
      ]
    },
    {
      "metadata": {
        "trusted": true
      },
      "cell_type": "code",
      "source": "conn.close()",
      "execution_count": 5,
      "outputs": []
    },
    {
      "metadata": {
        "trusted": true
      },
      "cell_type": "code",
      "source": "print(is_opened(conn))",
      "execution_count": 6,
      "outputs": [
        {
          "name": "stdout",
          "output_type": "stream",
          "text": "Connection closed Cannot operate on a closed database.\nFalse\n"
        }
      ]
    },
    {
      "metadata": {},
      "cell_type": "markdown",
      "source": "### Task 2: (What are the different age groups in the persons database)"
    },
    {
      "metadata": {
        "trusted": true
      },
      "cell_type": "code",
      "source": "conn = sqlite3.connect(\"petsdb\")",
      "execution_count": 7,
      "outputs": []
    },
    {
      "metadata": {
        "trusted": true
      },
      "cell_type": "code",
      "source": "c = conn.cursor()",
      "execution_count": 8,
      "outputs": []
    },
    {
      "metadata": {
        "trusted": true
      },
      "cell_type": "code",
      "source": "for ppl, age in c.execute(\"SELECT count(*), age FROM persons GROUP BY age\"):\n    print(\"We have {} people aged {}\".format(ppl, age))",
      "execution_count": 9,
      "outputs": [
        {
          "name": "stdout",
          "output_type": "stream",
          "text": "We have 2 people aged 5\nWe have 1 people aged 6\nWe have 1 people aged 7\nWe have 3 people aged 8\nWe have 1 people aged 9\nWe have 2 people aged 11\nWe have 3 people aged 12\nWe have 1 people aged 13\nWe have 4 people aged 14\nWe have 2 people aged 16\nWe have 2 people aged 17\nWe have 3 people aged 18\nWe have 1 people aged 19\nWe have 3 people aged 22\nWe have 2 people aged 23\nWe have 3 people aged 24\nWe have 2 people aged 25\nWe have 1 people aged 27\nWe have 1 people aged 30\nWe have 3 people aged 31\nWe have 1 people aged 32\nWe have 1 people aged 33\nWe have 2 people aged 34\nWe have 3 people aged 35\nWe have 3 people aged 36\nWe have 1 people aged 37\nWe have 2 people aged 39\nWe have 1 people aged 40\nWe have 1 people aged 42\nWe have 2 people aged 44\nWe have 2 people aged 48\nWe have 1 people aged 49\nWe have 1 people aged 50\nWe have 2 people aged 51\nWe have 2 people aged 52\nWe have 2 people aged 53\nWe have 2 people aged 54\nWe have 1 people aged 58\nWe have 1 people aged 59\nWe have 1 people aged 60\nWe have 1 people aged 61\nWe have 2 people aged 62\nWe have 1 people aged 63\nWe have 2 people aged 65\nWe have 2 people aged 66\nWe have 1 people aged 67\nWe have 3 people aged 68\nWe have 1 people aged 69\nWe have 1 people aged 70\nWe have 4 people aged 71\nWe have 1 people aged 72\nWe have 5 people aged 73\nWe have 3 people aged 74\n"
        }
      ]
    },
    {
      "metadata": {},
      "cell_type": "markdown",
      "source": "### Task 3: Which age group has maximum number of people?"
    },
    {
      "metadata": {
        "trusted": true
      },
      "cell_type": "code",
      "source": "for ppl, age in c.execute(\"SELECT count(*), age FROM persons GROUP BY age ORDER BY count(*) DESC\"):\n    print(\"Highest number of people {} came from {} age group\".format(ppl, age))\n    break",
      "execution_count": 10,
      "outputs": [
        {
          "name": "stdout",
          "output_type": "stream",
          "text": "Highest number of people 5 came from 73 age group\n"
        }
      ]
    },
    {
      "metadata": {},
      "cell_type": "markdown",
      "source": "### Task 4: How many people do not have a full name (Last name is blank/null)"
    },
    {
      "metadata": {
        "trusted": true
      },
      "cell_type": "code",
      "source": "res = c.execute(\"SELECT count(*) FROM persons WHERE last_name IS null\")\nfor row in res:\n    print(row)",
      "execution_count": 11,
      "outputs": [
        {
          "name": "stdout",
          "output_type": "stream",
          "text": "(60,)\n"
        }
      ]
    },
    {
      "metadata": {},
      "cell_type": "markdown",
      "source": "### Task 5: How many people has more than one pet? (*)"
    },
    {
      "metadata": {
        "trusted": true
      },
      "cell_type": "code",
      "source": "res = c.execute(\"SELECT count(*) FROM (SELECT count(owner_id) FROM pets GROUP BY owner_id HAVING count(owner_id) >1)\")\nfor row in res:\n    print(\"{} People has more than one pets\".format(row[0]))",
      "execution_count": 12,
      "outputs": [
        {
          "name": "stdout",
          "output_type": "stream",
          "text": "43 People has more than one pets\n"
        }
      ]
    },
    {
      "metadata": {},
      "cell_type": "markdown",
      "source": "### Task 6: How many pets have received treaments?"
    },
    {
      "metadata": {
        "trusted": true
      },
      "cell_type": "code",
      "source": "res = c.execute(\"SELECT count(*) FROM pets WHERE treatment_done=1\")\nfor row in res:\n    print(row)",
      "execution_count": 15,
      "outputs": [
        {
          "name": "stdout",
          "output_type": "stream",
          "text": "(36,)\n"
        }
      ]
    },
    {
      "metadata": {},
      "cell_type": "markdown",
      "source": "### Task 7: How many pets have received treatment that we know the type of? (*)"
    },
    {
      "metadata": {
        "trusted": true
      },
      "cell_type": "code",
      "source": "res = c.execute(\"SELECT count(*) FROM pets WHERE treatment_done=1 AND pet_type IS NOT null\")\nfor row in res:\n    print(row)",
      "execution_count": 17,
      "outputs": [
        {
          "name": "stdout",
          "output_type": "stream",
          "text": "(16,)\n"
        }
      ]
    },
    {
      "metadata": {},
      "cell_type": "markdown",
      "source": "### Task 8: How many pets are there from the city called \"east port\""
    },
    {
      "metadata": {
        "trusted": true
      },
      "cell_type": "code",
      "source": "res = c.execute(\"SELECT count(*) FROM pets JOIN persons ON pets.owner_id = persons.id WHERE persons.city='east port'\")\nfor row in res:\n    print(row)",
      "execution_count": 22,
      "outputs": [
        {
          "name": "stdout",
          "output_type": "stream",
          "text": "(49,)\n"
        }
      ]
    },
    {
      "metadata": {},
      "cell_type": "markdown",
      "source": "### Task 9: How many pets are there from the city called \"east port\" and who received a treatment?"
    },
    {
      "metadata": {
        "trusted": true
      },
      "cell_type": "code",
      "source": "res = c.execute(\"SELECT count(*) FROM pets JOIN persons ON pets.owner_id = persons.id WHERE persons.city='east port' AND pets.treatment_done=1\")\nfor row in res:\n    print(row)",
      "execution_count": 23,
      "outputs": [
        {
          "name": "stdout",
          "output_type": "stream",
          "text": "(11,)\n"
        }
      ]
    }
  ],
  "metadata": {
    "kernelspec": {
      "name": "python3",
      "display_name": "Python 3",
      "language": "python"
    },
    "language_info": {
      "mimetype": "text/x-python",
      "nbconvert_exporter": "python",
      "name": "python",
      "file_extension": ".py",
      "version": "3.5.4",
      "pygments_lexer": "ipython3",
      "codemirror_mode": {
        "version": 3,
        "name": "ipython"
      }
    }
  },
  "nbformat": 4,
  "nbformat_minor": 2
}