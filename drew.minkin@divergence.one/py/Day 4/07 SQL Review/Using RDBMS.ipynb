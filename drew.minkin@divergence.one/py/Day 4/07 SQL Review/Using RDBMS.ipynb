{
  "cells": [
    {
      "metadata": {},
      "cell_type": "markdown",
      "source": "### Exercise 1: Import SQLite and connect to a database and close it properly"
    },
    {
      "metadata": {
        "trusted": false
      },
      "cell_type": "code",
      "source": "import sqlite3",
      "execution_count": 37,
      "outputs": []
    },
    {
      "metadata": {
        "trusted": false
      },
      "cell_type": "code",
      "source": "conn = sqlite3.connect(\"lesson.db\")",
      "execution_count": 38,
      "outputs": []
    },
    {
      "metadata": {
        "trusted": false
      },
      "cell_type": "code",
      "source": "conn.close()",
      "execution_count": 39,
      "outputs": []
    },
    {
      "metadata": {
        "trusted": false
      },
      "cell_type": "code",
      "source": "# Better approach\nwith sqlite3.connect(\"lesson.db\") as conn:\n    pass",
      "execution_count": 40,
      "outputs": []
    },
    {
      "metadata": {},
      "cell_type": "markdown",
      "source": "### Exercise 2: Create a user table and insert a row in it"
    },
    {
      "metadata": {
        "trusted": false
      },
      "cell_type": "code",
      "source": "with sqlite3.connect(\"lesson.db\") as conn:\n    cursor = conn.cursor()\n    cursor.execute(\"CREATE TABLE IF NOT EXISTS user (email text, first_name text, last_name text, address text, age integer, PRIMARY KEY (email))\")\n    cursor.execute(\"INSERT INTO user VALUES ('bob@example.com', 'Bob', 'Codd', '123 Fantasy lane, Fantasu City', 31)\")\n    conn.commit()",
      "execution_count": 41,
      "outputs": []
    },
    {
      "metadata": {},
      "cell_type": "markdown",
      "source": "### Exercise 3: Check the first row and get the value."
    },
    {
      "metadata": {
        "trusted": false
      },
      "cell_type": "code",
      "source": "with sqlite3.connect(\"lesson.db\") as conn:\n    cursor = conn.cursor()\n    rows = cursor.execute('SELECT * FROM user')\n    for row in rows:\n        print(row)",
      "execution_count": 42,
      "outputs": [
        {
          "name": "stdout",
          "output_type": "stream",
          "text": "('bob@example.com', 'Bob', 'Codd', '123 Fantasy lane, Fantasu City', 31)\n"
        }
      ]
    },
    {
      "metadata": {},
      "cell_type": "markdown",
      "source": "### Exercise 4: Insert one more record and then select them with a order by clause"
    },
    {
      "metadata": {
        "trusted": false
      },
      "cell_type": "code",
      "source": "with sqlite3.connect(\"lesson.db\") as conn:\n    cursor = conn.cursor()\n    cursor.execute(\"INSERT INTO user VALUES ('tom@web.com', 'Tom', 'Fake', '456 Fantasy lane, Fantasu City', 39)\")\n    conn.commit()",
      "execution_count": 43,
      "outputs": []
    },
    {
      "metadata": {
        "trusted": false
      },
      "cell_type": "code",
      "source": "with sqlite3.connect(\"lesson.db\") as conn:\n    cursor = conn.cursor()\n    rows = cursor.execute('SELECT * FROM user ORDER BY age DESC')\n    for row in rows:\n        print(row)",
      "execution_count": 44,
      "outputs": [
        {
          "name": "stdout",
          "output_type": "stream",
          "text": "('tom@web.com', 'Tom', 'Fake', '456 Fantasy lane, Fantasu City', 39)\n('bob@example.com', 'Bob', 'Codd', '123 Fantasy lane, Fantasu City', 31)\n"
        }
      ]
    },
    {
      "metadata": {
        "trusted": false
      },
      "cell_type": "code",
      "source": "with sqlite3.connect(\"lesson.db\") as conn:\n    cursor = conn.cursor()\n    rows = cursor.execute('SELECT * FROM user ORDER BY age')\n    for row in rows:\n        print(row)",
      "execution_count": 45,
      "outputs": [
        {
          "name": "stdout",
          "output_type": "stream",
          "text": "('bob@example.com', 'Bob', 'Codd', '123 Fantasy lane, Fantasu City', 31)\n('tom@web.com', 'Tom', 'Fake', '456 Fantasy lane, Fantasu City', 39)\n"
        }
      ]
    },
    {
      "metadata": {},
      "cell_type": "markdown",
      "source": "### Exercise 5: Alter the table and add another column"
    },
    {
      "metadata": {
        "trusted": false
      },
      "cell_type": "code",
      "source": "with sqlite3.connect(\"lesson.db\") as conn:\n    cursor = conn.cursor()\n    cursor.execute(\"ALTER TABLE user ADD COLUMN gender text\")\n    conn.commit()\n    cursor.execute(\"UPDATE user SET gender='M'\")\n    conn.commit()",
      "execution_count": 46,
      "outputs": []
    },
    {
      "metadata": {
        "trusted": false
      },
      "cell_type": "code",
      "source": "with sqlite3.connect(\"lesson.db\") as conn:\n    cursor = conn.cursor()\n    rows = cursor.execute('SELECT * FROM user ORDER BY age')\n    for row in rows:\n        print(row)",
      "execution_count": 47,
      "outputs": [
        {
          "name": "stdout",
          "output_type": "stream",
          "text": "('bob@example.com', 'Bob', 'Codd', '123 Fantasy lane, Fantasu City', 31, 'M')\n('tom@web.com', 'Tom', 'Fake', '456 Fantasy lane, Fantasu City', 39, 'M')\n"
        }
      ]
    },
    {
      "metadata": {},
      "cell_type": "markdown",
      "source": "### Exercise 6: Add another row and then perform a GROUP BY and COUNT on the result"
    },
    {
      "metadata": {
        "trusted": false
      },
      "cell_type": "code",
      "source": "with sqlite3.connect(\"lesson.db\") as conn:\n    cursor = conn.cursor()\n    cursor.execute(\"INSERT INTO user VALUES ('shelly@www.com', 'Shelly', 'Milar', '123, Ocean View Lane', 39, 'F')\")\n    conn.commit()\n    cursor = conn.cursor()\n    rows = cursor.execute('SELECT * FROM user ORDER BY age DESC')\n    for row in rows:\n        print(row)",
      "execution_count": 48,
      "outputs": [
        {
          "name": "stdout",
          "output_type": "stream",
          "text": "('tom@web.com', 'Tom', 'Fake', '456 Fantasy lane, Fantasu City', 39, 'M')\n('shelly@www.com', 'Shelly', 'Milar', '123, Ocean View Lane', 39, 'F')\n('bob@example.com', 'Bob', 'Codd', '123 Fantasy lane, Fantasu City', 31, 'M')\n"
        }
      ]
    },
    {
      "metadata": {
        "trusted": false
      },
      "cell_type": "code",
      "source": "with sqlite3.connect(\"lesson.db\") as conn:\n    cursor = conn.cursor()\n    rows = cursor.execute(\"SELECT COUNT(*), gender FROM user GROUP BY gender\")\n    for row in rows:\n        print(row)",
      "execution_count": 49,
      "outputs": [
        {
          "name": "stdout",
          "output_type": "stream",
          "text": "(1, 'F')\n(2, 'M')\n"
        }
      ]
    },
    {
      "metadata": {},
      "cell_type": "markdown",
      "source": "### Exercise 7: Create another tabble and relate it with User table"
    },
    {
      "metadata": {
        "trusted": false
      },
      "cell_type": "code",
      "source": "with sqlite3.connect(\"lesson.db\") as conn:\n    cursor = conn.cursor()\n    cursor.execute(\"PRAGMA foreign_keys = 1\")\n    sql = \"\"\"\n        CREATE TABLE comments (\n            user_id text,\n            comments text,\n            FOREIGN KEY (user_id) REFERENCES user (email) \n            ON DELETE CASCADE ON UPDATE NO ACTION\n        )\n    \"\"\"\n    cursor.execute(sql)",
      "execution_count": 50,
      "outputs": []
    },
    {
      "metadata": {},
      "cell_type": "markdown",
      "source": "### Exercise 8: Populating the comments table"
    },
    {
      "metadata": {
        "trusted": false
      },
      "cell_type": "code",
      "source": "with sqlite3.connect(\"lesson.db\") as conn:\n    cursor = conn.cursor()\n    cursor.execute(\"PRAGMA foreign_keys = 1\")\n    sql = \"INSERT INTO comments VALUES ('{}', '{}')\"\n    rows = cursor.execute('SELECT * FROM user ORDER BY age')\n    for row in rows:\n        email = row[0]\n        print(\"Going to create rows for {}\".format(email))\n        name = row[1] + \" \" + row[2]\n        for i in range(10):\n            comment = \"This is comment {} by {}\".format(i, name)\n            conn.cursor().execute(sql.format(email, comment))\n    conn.commit()",
      "execution_count": 51,
      "outputs": [
        {
          "name": "stdout",
          "output_type": "stream",
          "text": "Going to create rows for bob@example.com\nGoing to create rows for tom@web.com\nGoing to create rows for shelly@www.com\n"
        }
      ]
    },
    {
      "metadata": {},
      "cell_type": "markdown",
      "source": "### Exercise 9: Read comments by Bob"
    },
    {
      "metadata": {
        "trusted": false
      },
      "cell_type": "code",
      "source": "with sqlite3.connect(\"lesson.db\") as conn:\n    cursor = conn.cursor()\n    cursor.execute(\"PRAGMA foreign_keys = 1\")\n    sql = \"\"\"\n        SELECT * FROM comments \n        JOIN user ON comments.user_id = user.email\n        WHERE user.email='bob@example.com'\n    \"\"\"\n    rows = cursor.execute(sql)\n    for row in rows:\n        print(row)",
      "execution_count": 52,
      "outputs": [
        {
          "name": "stdout",
          "output_type": "stream",
          "text": "('bob@example.com', 'This is comment 0 by Bob Codd', 'bob@example.com', 'Bob', 'Codd', '123 Fantasy lane, Fantasu City', 31, 'M')\n('bob@example.com', 'This is comment 1 by Bob Codd', 'bob@example.com', 'Bob', 'Codd', '123 Fantasy lane, Fantasu City', 31, 'M')\n('bob@example.com', 'This is comment 2 by Bob Codd', 'bob@example.com', 'Bob', 'Codd', '123 Fantasy lane, Fantasu City', 31, 'M')\n('bob@example.com', 'This is comment 3 by Bob Codd', 'bob@example.com', 'Bob', 'Codd', '123 Fantasy lane, Fantasu City', 31, 'M')\n('bob@example.com', 'This is comment 4 by Bob Codd', 'bob@example.com', 'Bob', 'Codd', '123 Fantasy lane, Fantasu City', 31, 'M')\n('bob@example.com', 'This is comment 5 by Bob Codd', 'bob@example.com', 'Bob', 'Codd', '123 Fantasy lane, Fantasu City', 31, 'M')\n('bob@example.com', 'This is comment 6 by Bob Codd', 'bob@example.com', 'Bob', 'Codd', '123 Fantasy lane, Fantasu City', 31, 'M')\n('bob@example.com', 'This is comment 7 by Bob Codd', 'bob@example.com', 'Bob', 'Codd', '123 Fantasy lane, Fantasu City', 31, 'M')\n('bob@example.com', 'This is comment 8 by Bob Codd', 'bob@example.com', 'Bob', 'Codd', '123 Fantasy lane, Fantasu City', 31, 'M')\n('bob@example.com', 'This is comment 9 by Bob Codd', 'bob@example.com', 'Bob', 'Codd', '123 Fantasy lane, Fantasu City', 31, 'M')\n"
        }
      ]
    },
    {
      "metadata": {},
      "cell_type": "markdown",
      "source": "### Exercise 10: Read selected columns only"
    },
    {
      "metadata": {
        "trusted": false
      },
      "cell_type": "code",
      "source": "with sqlite3.connect(\"lesson.db\") as conn:\n    cursor = conn.cursor()\n    cursor.execute(\"PRAGMA foreign_keys = 1\")\n    sql = \"\"\"\n        SELECT comments.* FROM comments\n        JOIN user ON comments.user_id = user.email\n        WHERE user.email='bob@example.com'\n    \"\"\"\n    rows = cursor.execute(sql)\n    for row in rows:\n        print(row)",
      "execution_count": 53,
      "outputs": [
        {
          "name": "stdout",
          "output_type": "stream",
          "text": "('bob@example.com', 'This is comment 0 by Bob Codd')\n('bob@example.com', 'This is comment 1 by Bob Codd')\n('bob@example.com', 'This is comment 2 by Bob Codd')\n('bob@example.com', 'This is comment 3 by Bob Codd')\n('bob@example.com', 'This is comment 4 by Bob Codd')\n('bob@example.com', 'This is comment 5 by Bob Codd')\n('bob@example.com', 'This is comment 6 by Bob Codd')\n('bob@example.com', 'This is comment 7 by Bob Codd')\n('bob@example.com', 'This is comment 8 by Bob Codd')\n('bob@example.com', 'This is comment 9 by Bob Codd')\n"
        }
      ]
    },
    {
      "metadata": {},
      "cell_type": "markdown",
      "source": "### Exercise 11: Delete a row in user table and watch the consequences"
    },
    {
      "metadata": {
        "trusted": false
      },
      "cell_type": "code",
      "source": "with sqlite3.connect(\"lesson.db\") as conn:\n    cursor = conn.cursor()\n    cursor.execute(\"PRAGMA foreign_keys = 1\")\n    cursor.execute(\"DELETE FROM user WHERE email='bob@example.com'\")\n    conn.commit()",
      "execution_count": 54,
      "outputs": []
    },
    {
      "metadata": {
        "trusted": false
      },
      "cell_type": "code",
      "source": "with sqlite3.connect(\"lesson.db\") as conn:\n    cursor = conn.cursor()\n    cursor.execute(\"PRAGMA foreign_keys = 1\")\n    rows = cursor.execute(\"SELECT * FROM user\")\n    for row in rows:\n        print(row)",
      "execution_count": 55,
      "outputs": [
        {
          "name": "stdout",
          "output_type": "stream",
          "text": "('tom@web.com', 'Tom', 'Fake', '456 Fantasy lane, Fantasu City', 39, 'M')\n('shelly@www.com', 'Shelly', 'Milar', '123, Ocean View Lane', 39, 'F')\n"
        }
      ]
    },
    {
      "metadata": {
        "trusted": false
      },
      "cell_type": "code",
      "source": "with sqlite3.connect(\"lesson.db\") as conn:\n    cursor = conn.cursor()\n    cursor.execute(\"PRAGMA foreign_keys = 1\")\n    rows = cursor.execute(\"SELECT * FROM comments\")\n    for row in rows:\n        print(row)",
      "execution_count": 56,
      "outputs": [
        {
          "name": "stdout",
          "output_type": "stream",
          "text": "('tom@web.com', 'This is comment 0 by Tom Fake')\n('tom@web.com', 'This is comment 1 by Tom Fake')\n('tom@web.com', 'This is comment 2 by Tom Fake')\n('tom@web.com', 'This is comment 3 by Tom Fake')\n('tom@web.com', 'This is comment 4 by Tom Fake')\n('tom@web.com', 'This is comment 5 by Tom Fake')\n('tom@web.com', 'This is comment 6 by Tom Fake')\n('tom@web.com', 'This is comment 7 by Tom Fake')\n('tom@web.com', 'This is comment 8 by Tom Fake')\n('tom@web.com', 'This is comment 9 by Tom Fake')\n('shelly@www.com', 'This is comment 0 by Shelly Milar')\n('shelly@www.com', 'This is comment 1 by Shelly Milar')\n('shelly@www.com', 'This is comment 2 by Shelly Milar')\n('shelly@www.com', 'This is comment 3 by Shelly Milar')\n('shelly@www.com', 'This is comment 4 by Shelly Milar')\n('shelly@www.com', 'This is comment 5 by Shelly Milar')\n('shelly@www.com', 'This is comment 6 by Shelly Milar')\n('shelly@www.com', 'This is comment 7 by Shelly Milar')\n('shelly@www.com', 'This is comment 8 by Shelly Milar')\n('shelly@www.com', 'This is comment 9 by Shelly Milar')\n"
        }
      ]
    },
    {
      "metadata": {},
      "cell_type": "markdown",
      "source": "### Exercise 12: Update a row in User table"
    },
    {
      "metadata": {
        "trusted": false
      },
      "cell_type": "code",
      "source": "with sqlite3.connect(\"lesson.db\") as conn:\n    cursor = conn.cursor()\n    cursor.execute(\"PRAGMA foreign_keys = 1\")\n    cursor.execute(\"UPDATE user set first_name='Chris' where email='tom@web.com'\")\n    conn.commit()\n    rows = cursor.execute(\"SELECT * FROM user\")\n    for row in rows:\n        print(row)",
      "execution_count": 60,
      "outputs": [
        {
          "name": "stdout",
          "output_type": "stream",
          "text": "('tom@web.com', 'Chris', 'Fake', '456 Fantasy lane, Fantasu City', 39, 'M')\n('shelly@www.com', 'Shelly', 'Milar', '123, Ocean View Lane', 39, 'F')\n"
        }
      ]
    },
    {
      "metadata": {},
      "cell_type": "markdown",
      "source": "### Exercise 12: Creating a Data Frame from the result"
    },
    {
      "metadata": {
        "trusted": false
      },
      "cell_type": "code",
      "source": "import pandas as pd\n\ncolumns = [\"Email\", \"First Name\", \"Last Name\", \"Age\", \"Gender\", \"Comments\"]\ndata = []\nwith sqlite3.connect(\"lesson.db\") as conn:\n    cursor = conn.cursor()\n    cursor.execute(\"PRAGMA foreign_keys = 1\")\n    \n    sql = \"\"\"\n        SELECT user.email, user.first_name, user.last_name, user.age, user.gender, comments.comments FROM comments\n        JOIN user ON comments.user_id = user.email\n        WHERE user.email = 'tom@web.com'\n    \"\"\"\n    rows = cursor.execute(sql)\n    for row in rows:\n        data.append(row)",
      "execution_count": 34,
      "outputs": []
    },
    {
      "metadata": {
        "trusted": false
      },
      "cell_type": "code",
      "source": "df = pd.DataFrame(data, columns=columns)",
      "execution_count": 35,
      "outputs": []
    },
    {
      "metadata": {
        "trusted": false
      },
      "cell_type": "code",
      "source": "df.head()",
      "execution_count": 36,
      "outputs": [
        {
          "data": {
            "text/html": "<div>\n<style scoped>\n    .dataframe tbody tr th:only-of-type {\n        vertical-align: middle;\n    }\n\n    .dataframe tbody tr th {\n        vertical-align: top;\n    }\n\n    .dataframe thead th {\n        text-align: right;\n    }\n</style>\n<table border=\"1\" class=\"dataframe\">\n  <thead>\n    <tr style=\"text-align: right;\">\n      <th></th>\n      <th>Email</th>\n      <th>First Name</th>\n      <th>Last Name</th>\n      <th>Age</th>\n      <th>Gender</th>\n      <th>Comments</th>\n    </tr>\n  </thead>\n  <tbody>\n    <tr>\n      <th>0</th>\n      <td>tom@web.com</td>\n      <td>Tom</td>\n      <td>Fake</td>\n      <td>39</td>\n      <td>M</td>\n      <td>This is comment 0 by Tom Fake</td>\n    </tr>\n    <tr>\n      <th>1</th>\n      <td>tom@web.com</td>\n      <td>Tom</td>\n      <td>Fake</td>\n      <td>39</td>\n      <td>M</td>\n      <td>This is comment 1 by Tom Fake</td>\n    </tr>\n    <tr>\n      <th>2</th>\n      <td>tom@web.com</td>\n      <td>Tom</td>\n      <td>Fake</td>\n      <td>39</td>\n      <td>M</td>\n      <td>This is comment 2 by Tom Fake</td>\n    </tr>\n    <tr>\n      <th>3</th>\n      <td>tom@web.com</td>\n      <td>Tom</td>\n      <td>Fake</td>\n      <td>39</td>\n      <td>M</td>\n      <td>This is comment 3 by Tom Fake</td>\n    </tr>\n    <tr>\n      <th>4</th>\n      <td>tom@web.com</td>\n      <td>Tom</td>\n      <td>Fake</td>\n      <td>39</td>\n      <td>M</td>\n      <td>This is comment 4 by Tom Fake</td>\n    </tr>\n  </tbody>\n</table>\n</div>",
            "text/plain": "         Email First Name Last Name  Age Gender                       Comments\n0  tom@web.com        Tom      Fake   39      M  This is comment 0 by Tom Fake\n1  tom@web.com        Tom      Fake   39      M  This is comment 1 by Tom Fake\n2  tom@web.com        Tom      Fake   39      M  This is comment 2 by Tom Fake\n3  tom@web.com        Tom      Fake   39      M  This is comment 3 by Tom Fake\n4  tom@web.com        Tom      Fake   39      M  This is comment 4 by Tom Fake"
          },
          "execution_count": 36,
          "metadata": {},
          "output_type": "execute_result"
        }
      ]
    }
  ],
  "metadata": {
    "kernelspec": {
      "name": "python3",
      "display_name": "Python 3",
      "language": "python"
    },
    "language_info": {
      "mimetype": "text/x-python",
      "nbconvert_exporter": "python",
      "name": "python",
      "file_extension": ".py",
      "version": "3.5.4",
      "pygments_lexer": "ipython3",
      "codemirror_mode": {
        "version": 3,
        "name": "ipython"
      }
    }
  },
  "nbformat": 4,
  "nbformat_minor": 2
}