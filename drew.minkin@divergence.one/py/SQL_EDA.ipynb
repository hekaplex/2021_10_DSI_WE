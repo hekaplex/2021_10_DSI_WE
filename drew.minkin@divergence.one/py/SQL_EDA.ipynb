{
    "cells": [
        {
            "cell_type": "markdown",
            "metadata": {
                "azdata_cell_guid": "fa8275b2-f8be-4a95-a12b-44abac8a4656"
            },
            "source": [
                "<span style=\"font-size: 14px;\"><b>Modeling Phases</b></span>\n",
                "\n",
                "<span style=\"font-size: 14px;\">Phase 0 - diagnostics</span>\n",
                "\n",
                "<span style=\"font-size: 14px;\">Phase 0a - FE in diagnostics&nbsp;</span> \n",
                "\n",
                "<span style=\"font-size: 14px;\">Phase 1 - domain based models</span>\n",
                "\n",
                "<span style=\"font-size: 14px;\">Phase 1a - apply theories from SME/EDA</span>\n",
                "\n",
                "<span style=\"font-size: 14px;\">Phase 2 - bakeoff of algorithms</span>\n",
                "\n",
                "<span style=\"font-size: 14px;\">Phase 2a - permutations of features</span>\n",
                "\n",
                "<span style=\"font-size: 14px;\">Phase 3 - hyperparameter tuning</span>\n",
                "\n",
                "<span style=\"font-size: 14px;\">Phase 3a - cross validation/resampling</span>"
            ]
        },
        {
            "cell_type": "code",
            "execution_count": 1,
            "metadata": {
                "azdata_cell_guid": "b76c57b9-5974-42f2-af0e-24d65c0b81cb"
            },
            "outputs": [
                {
                    "ename": "",
                    "evalue": "Msg 104455, Level 16, State 1, Line 1\r\nUSE statement is not supported to switch between databases. Use a new connection to connect to a different Database.",
                    "output_type": "error",
                    "traceback": []
                },
                {
                    "data": {
                        "text/html": [
                            "Total execution time: 00:00:00.380"
                        ]
                    },
                    "metadata": {},
                    "output_type": "display_data"
                }
            ],
            "source": [
                "use DW_202010WE_DS\n"
            ]
        },
        {
            "cell_type": "code",
            "execution_count": 8,
            "metadata": {
                "azdata_cell_guid": "a6cbc573-ab7e-4621-95f1-3e7204811635"
            },
            "outputs": [
                {
                    "data": {
                        "text/html": [
                            "Commands completed successfully."
                        ]
                    },
                    "metadata": {},
                    "output_type": "display_data"
                },
                {
                    "data": {
                        "text/html": [
                            "Total execution time: 00:00:00.150"
                        ]
                    },
                    "metadata": {},
                    "output_type": "display_data"
                }
            ],
            "source": [
                "--model fact table\n",
                "\n",
                "ALTER view ADF.ModelfactTableFlightDelays\n",
                "AS \n",
                "WITH\n",
                "\t avg_d as (select AVG(DISTANCE)  avg_d  from ADF.FlightFact)\n",
                "\t ,std_d as (select STDEV(DISTANCE) std_d from ADF.FlightFact)\n",
                "SELECT\n",
                "        ROUND(\n",
                "            (\n",
                "                (\n",
                "                    (DISTANCE -31.0)/(4983.0-31.0))\n",
                "                    * \n",
                "                    --num_bins+1\n",
                "                    (100.0/20)\n",
                "            )\n",
                "                ,0\n",
                "                --truncate\n",
                "                ,1\n",
                "                ) AS\tDISTANCE_BIN_EQUAL_RANGE_06\n",
                "    , CASE WHEN DISTANCE > 701 THEN 'LONG FLIGHT' ELSE 'SHORT FLIGHT' END DISTANCE_CUT_median\n",
                "    , CASE \n",
                "        --top 70% NTILE<= 30 starts at \n",
                "        WHEN DISTANCE > 1020 THEN 'TOP FLIGHT DISTANCE'  \n",
                "        --middle 40% starts at \n",
                "        WHEN DISTANCE > 447 THEN 'MEDIUM FLIGHT DISTANCE'  \n",
                "        ELSE 'BOTTOM FLIGHT DISTANCE'\n",
                "        END AS DISTANCE_BIN_APPROX_03\n",
                "    ,NTILE(4) OVER(ORDER BY [DISTANCE]DESC) as DISTANCE_BIN_EQUAL_SIZE_04\n",
                "    ,NTILE(100) OVER(ORDER BY [DISTANCE]DESC) as DISTANCE_BIN_EQUAL_SIZE_100\n",
                "    ,(DISTANCE -31.0)/(4983.0-31.0) AS DISTANCE_SCALED_0_to_1\n",
                "    ,100*((DISTANCE -31.0)/(4983.0-31.0))+1 AS DISTANCE_SCALED_1_to_100\n",
                "    ,(DISTANCE - avg_d.avg_d)/std_d.std_d AS Z_SCORE\n",
                "    ,D.*    \n",
                "    ,F.*\n",
                "FROM ADF.FlightFact F\n",
                "INNER JOIN ADF.DimDate D\n",
                "ON F.FlightDateKey = D.DateKey\n",
                "\tjoin std_d on 1 =1\n",
                "\tjoin avg_d on 1 =1\n",
                "WHERE\n",
                "    NAS_DELAY <= 150\n",
                "    AND DEP_DELAY BETWEEN 15 AND 120"
            ]
        },
        {
            "cell_type": "code",
            "execution_count": null,
            "metadata": {
                "azdata_cell_guid": "fcebb451-9225-48d4-8aeb-f62f258a7914"
            },
            "outputs": [],
            "source": []
        },
        {
            "cell_type": "code",
            "execution_count": 2,
            "metadata": {
                "azdata_cell_guid": "25cc90db-049e-4bf8-bbb5-20971c930ce9"
            },
            "outputs": [
                {
                    "data": {
                        "text/html": [
                            "Commands completed successfully."
                        ]
                    },
                    "metadata": {},
                    "output_type": "display_data"
                },
                {
                    "data": {
                        "text/html": [
                            "Total execution time: 00:00:00.192"
                        ]
                    },
                    "metadata": {},
                    "output_type": "display_data"
                }
            ],
            "source": [
                "drop view dbo.DistanceDeepDive"
            ]
        },
        {
            "cell_type": "code",
            "execution_count": 3,
            "metadata": {
                "azdata_cell_guid": "313af7f8-1fe8-460f-9228-f683b55c4c3f"
            },
            "outputs": [
                {
                    "ename": "",
                    "evalue": "Msg 208, Level 16, State 1, Line 1\r\nInvalid object name 'ADF.ModelfactTableFlightDelays'.",
                    "output_type": "error",
                    "traceback": []
                },
                {
                    "data": {
                        "text/html": [
                            "Total execution time: 00:00:00.054"
                        ]
                    },
                    "metadata": {},
                    "output_type": "display_data"
                }
            ],
            "source": [
                "SELECT AVG(DEP_DELAY) FROM ADF.ModelfactTableFlightDelays"
            ]
        }
    ],
    "metadata": {
        "interpreter": {
            "hash": "c94be41889154d41bf43aca8d1a8d1cd64b97c119170e03e2ed46ca87183f0c5"
        },
        "kernelspec": {
            "display_name": "Python 3.8.5 64-bit ('base': conda)",
            "name": "python3"
        },
        "language_info": {
            "name": "python",
            "version": "3.8.5"
        }
    },
    "nbformat": 4,
    "nbformat_minor": 2
}
